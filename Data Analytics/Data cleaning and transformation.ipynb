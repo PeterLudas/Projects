{
 "cells": [
  {
   "cell_type": "markdown",
   "id": "47df3be7",
   "metadata": {},
   "source": [
    "# Contents\n",
    "- [Importing libraries and data](#Importing-libraries-and-data)\n",
    "- [Initial EDA and data cleaning](#Initial-EDA-and-data-cleaning)\n",
    "- [Creating a pipeline for the customer data](#Creating-a-pipeline-for-the-customer-data)"
   ]
  },
  {
   "cell_type": "markdown",
   "id": "c710bb40",
   "metadata": {},
   "source": [
    "# Customer Ananlysis\n",
    "### *This is a demo project of showcasing data wrangling techniques*"
   ]
  },
  {
   "cell_type": "markdown",
   "id": "3da75568",
   "metadata": {},
   "source": [
    "## Importing libraries and data\n",
    "*First we import all the required libraries and initializing a class for highlighting purposes. We are going to define and check every step as a function to build a data processing pipeline* **==>**\n",
    "\n",
    "[back to top](#Contents)"
   ]
  },
  {
   "cell_type": "code",
   "execution_count": 1,
   "id": "f0574d39",
   "metadata": {},
   "outputs": [],
   "source": [
    "import numpy as np\n",
    "import pandas as pd\n",
    "import seaborn as sns\n",
    "from sklearn.experimental import enable_iterative_imputer\n",
    "from sklearn.impute import IterativeImputer\n",
    "from matplotlib import pyplot as plt \n",
    "%matplotlib inline\n",
    "\n",
    "class color:\n",
    "   PURPLE = '\\033[95m'\n",
    "   CYAN = '\\033[96m'\n",
    "   DARKCYAN = '\\033[36m'\n",
    "   BLUE = '\\033[94m'\n",
    "   GREEN = '\\033[92m'\n",
    "   YELLOW = '\\033[93m'\n",
    "   RED = '\\033[91m'\n",
    "   BOLD = '\\033[1m'\n",
    "   UNDERLINE = '\\033[4m'\n",
    "   END = '\\033[0m'"
   ]
  },
  {
   "cell_type": "markdown",
   "id": "ce637339",
   "metadata": {},
   "source": [
    "*Then we load the data and peek into. This time the data is saved as 3 individual .csv files* **==>**"
   ]
  },
  {
   "cell_type": "code",
   "execution_count": 2,
   "id": "a68d4ff4",
   "metadata": {},
   "outputs": [
    {
     "data": {
      "text/html": [
       "<div>\n",
       "<style scoped>\n",
       "    .dataframe tbody tr th:only-of-type {\n",
       "        vertical-align: middle;\n",
       "    }\n",
       "\n",
       "    .dataframe tbody tr th {\n",
       "        vertical-align: top;\n",
       "    }\n",
       "\n",
       "    .dataframe thead th {\n",
       "        text-align: right;\n",
       "    }\n",
       "</style>\n",
       "<table border=\"1\" class=\"dataframe\">\n",
       "  <thead>\n",
       "    <tr style=\"text-align: right;\">\n",
       "      <th></th>\n",
       "      <th>Customer</th>\n",
       "      <th>ST</th>\n",
       "      <th>GENDER</th>\n",
       "      <th>Education</th>\n",
       "      <th>Customer Lifetime Value</th>\n",
       "      <th>Income</th>\n",
       "      <th>Monthly Premium Auto</th>\n",
       "      <th>Number of Open Complaints</th>\n",
       "      <th>Policy Type</th>\n",
       "      <th>Vehicle Class</th>\n",
       "      <th>Total Claim Amount</th>\n",
       "    </tr>\n",
       "  </thead>\n",
       "  <tbody>\n",
       "    <tr>\n",
       "      <th>0</th>\n",
       "      <td>RB50392</td>\n",
       "      <td>Washington</td>\n",
       "      <td>NaN</td>\n",
       "      <td>Master</td>\n",
       "      <td>NaN</td>\n",
       "      <td>0.0</td>\n",
       "      <td>1000.0</td>\n",
       "      <td>1/0/00</td>\n",
       "      <td>Personal Auto</td>\n",
       "      <td>Four-Door Car</td>\n",
       "      <td>2.704934</td>\n",
       "    </tr>\n",
       "    <tr>\n",
       "      <th>1</th>\n",
       "      <td>QZ44356</td>\n",
       "      <td>Arizona</td>\n",
       "      <td>F</td>\n",
       "      <td>Bachelor</td>\n",
       "      <td>697953.59%</td>\n",
       "      <td>0.0</td>\n",
       "      <td>94.0</td>\n",
       "      <td>1/0/00</td>\n",
       "      <td>Personal Auto</td>\n",
       "      <td>Four-Door Car</td>\n",
       "      <td>1131.464935</td>\n",
       "    </tr>\n",
       "    <tr>\n",
       "      <th>2</th>\n",
       "      <td>AI49188</td>\n",
       "      <td>Nevada</td>\n",
       "      <td>F</td>\n",
       "      <td>Bachelor</td>\n",
       "      <td>1288743.17%</td>\n",
       "      <td>48767.0</td>\n",
       "      <td>108.0</td>\n",
       "      <td>1/0/00</td>\n",
       "      <td>Personal Auto</td>\n",
       "      <td>Two-Door Car</td>\n",
       "      <td>566.472247</td>\n",
       "    </tr>\n",
       "    <tr>\n",
       "      <th>3</th>\n",
       "      <td>WW63253</td>\n",
       "      <td>California</td>\n",
       "      <td>M</td>\n",
       "      <td>Bachelor</td>\n",
       "      <td>764586.18%</td>\n",
       "      <td>0.0</td>\n",
       "      <td>106.0</td>\n",
       "      <td>1/0/00</td>\n",
       "      <td>Corporate Auto</td>\n",
       "      <td>SUV</td>\n",
       "      <td>529.881344</td>\n",
       "    </tr>\n",
       "    <tr>\n",
       "      <th>4</th>\n",
       "      <td>GA49547</td>\n",
       "      <td>Washington</td>\n",
       "      <td>M</td>\n",
       "      <td>High School or Below</td>\n",
       "      <td>536307.65%</td>\n",
       "      <td>36357.0</td>\n",
       "      <td>68.0</td>\n",
       "      <td>1/0/00</td>\n",
       "      <td>Personal Auto</td>\n",
       "      <td>Four-Door Car</td>\n",
       "      <td>17.269323</td>\n",
       "    </tr>\n",
       "  </tbody>\n",
       "</table>\n",
       "</div>"
      ],
      "text/plain": [
       "  Customer          ST GENDER             Education Customer Lifetime Value  \\\n",
       "0  RB50392  Washington    NaN                Master                     NaN   \n",
       "1  QZ44356     Arizona      F              Bachelor              697953.59%   \n",
       "2  AI49188      Nevada      F              Bachelor             1288743.17%   \n",
       "3  WW63253  California      M              Bachelor              764586.18%   \n",
       "4  GA49547  Washington      M  High School or Below              536307.65%   \n",
       "\n",
       "    Income  Monthly Premium Auto Number of Open Complaints     Policy Type  \\\n",
       "0      0.0                1000.0                    1/0/00   Personal Auto   \n",
       "1      0.0                  94.0                    1/0/00   Personal Auto   \n",
       "2  48767.0                 108.0                    1/0/00   Personal Auto   \n",
       "3      0.0                 106.0                    1/0/00  Corporate Auto   \n",
       "4  36357.0                  68.0                    1/0/00   Personal Auto   \n",
       "\n",
       "   Vehicle Class  Total Claim Amount  \n",
       "0  Four-Door Car            2.704934  \n",
       "1  Four-Door Car         1131.464935  \n",
       "2   Two-Door Car          566.472247  \n",
       "3            SUV          529.881344  \n",
       "4  Four-Door Car           17.269323  "
      ]
     },
     "execution_count": 2,
     "metadata": {},
     "output_type": "execute_result"
    }
   ],
   "source": [
    "df1 = pd.read_csv('data/file1.csv')\n",
    "df1.head()"
   ]
  },
  {
   "cell_type": "code",
   "execution_count": 3,
   "id": "53eff5a9",
   "metadata": {},
   "outputs": [
    {
     "data": {
      "text/html": [
       "<div>\n",
       "<style scoped>\n",
       "    .dataframe tbody tr th:only-of-type {\n",
       "        vertical-align: middle;\n",
       "    }\n",
       "\n",
       "    .dataframe tbody tr th {\n",
       "        vertical-align: top;\n",
       "    }\n",
       "\n",
       "    .dataframe thead th {\n",
       "        text-align: right;\n",
       "    }\n",
       "</style>\n",
       "<table border=\"1\" class=\"dataframe\">\n",
       "  <thead>\n",
       "    <tr style=\"text-align: right;\">\n",
       "      <th></th>\n",
       "      <th>Customer</th>\n",
       "      <th>ST</th>\n",
       "      <th>GENDER</th>\n",
       "      <th>Education</th>\n",
       "      <th>Customer Lifetime Value</th>\n",
       "      <th>Income</th>\n",
       "      <th>Monthly Premium Auto</th>\n",
       "      <th>Number of Open Complaints</th>\n",
       "      <th>Total Claim Amount</th>\n",
       "      <th>Policy Type</th>\n",
       "      <th>Vehicle Class</th>\n",
       "    </tr>\n",
       "  </thead>\n",
       "  <tbody>\n",
       "    <tr>\n",
       "      <th>0</th>\n",
       "      <td>GS98873</td>\n",
       "      <td>Arizona</td>\n",
       "      <td>F</td>\n",
       "      <td>Bachelor</td>\n",
       "      <td>323912.47%</td>\n",
       "      <td>16061</td>\n",
       "      <td>88</td>\n",
       "      <td>1/0/00</td>\n",
       "      <td>633.6</td>\n",
       "      <td>Personal Auto</td>\n",
       "      <td>Four-Door Car</td>\n",
       "    </tr>\n",
       "    <tr>\n",
       "      <th>1</th>\n",
       "      <td>CW49887</td>\n",
       "      <td>California</td>\n",
       "      <td>F</td>\n",
       "      <td>Master</td>\n",
       "      <td>462680.11%</td>\n",
       "      <td>79487</td>\n",
       "      <td>114</td>\n",
       "      <td>1/0/00</td>\n",
       "      <td>547.2</td>\n",
       "      <td>Special Auto</td>\n",
       "      <td>SUV</td>\n",
       "    </tr>\n",
       "    <tr>\n",
       "      <th>2</th>\n",
       "      <td>MY31220</td>\n",
       "      <td>California</td>\n",
       "      <td>F</td>\n",
       "      <td>College</td>\n",
       "      <td>899704.02%</td>\n",
       "      <td>54230</td>\n",
       "      <td>112</td>\n",
       "      <td>1/0/00</td>\n",
       "      <td>537.6</td>\n",
       "      <td>Personal Auto</td>\n",
       "      <td>Two-Door Car</td>\n",
       "    </tr>\n",
       "    <tr>\n",
       "      <th>3</th>\n",
       "      <td>UH35128</td>\n",
       "      <td>Oregon</td>\n",
       "      <td>F</td>\n",
       "      <td>College</td>\n",
       "      <td>2580706.30%</td>\n",
       "      <td>71210</td>\n",
       "      <td>214</td>\n",
       "      <td>1/1/00</td>\n",
       "      <td>1027.2</td>\n",
       "      <td>Personal Auto</td>\n",
       "      <td>Luxury Car</td>\n",
       "    </tr>\n",
       "    <tr>\n",
       "      <th>4</th>\n",
       "      <td>WH52799</td>\n",
       "      <td>Arizona</td>\n",
       "      <td>F</td>\n",
       "      <td>College</td>\n",
       "      <td>380812.21%</td>\n",
       "      <td>94903</td>\n",
       "      <td>94</td>\n",
       "      <td>1/0/00</td>\n",
       "      <td>451.2</td>\n",
       "      <td>Corporate Auto</td>\n",
       "      <td>Two-Door Car</td>\n",
       "    </tr>\n",
       "  </tbody>\n",
       "</table>\n",
       "</div>"
      ],
      "text/plain": [
       "  Customer          ST GENDER Education Customer Lifetime Value  Income  \\\n",
       "0  GS98873     Arizona      F  Bachelor              323912.47%   16061   \n",
       "1  CW49887  California      F    Master              462680.11%   79487   \n",
       "2  MY31220  California      F   College              899704.02%   54230   \n",
       "3  UH35128      Oregon      F   College             2580706.30%   71210   \n",
       "4  WH52799     Arizona      F   College              380812.21%   94903   \n",
       "\n",
       "   Monthly Premium Auto Number of Open Complaints  Total Claim Amount  \\\n",
       "0                    88                    1/0/00               633.6   \n",
       "1                   114                    1/0/00               547.2   \n",
       "2                   112                    1/0/00               537.6   \n",
       "3                   214                    1/1/00              1027.2   \n",
       "4                    94                    1/0/00               451.2   \n",
       "\n",
       "      Policy Type  Vehicle Class  \n",
       "0   Personal Auto  Four-Door Car  \n",
       "1    Special Auto            SUV  \n",
       "2   Personal Auto   Two-Door Car  \n",
       "3   Personal Auto     Luxury Car  \n",
       "4  Corporate Auto   Two-Door Car  "
      ]
     },
     "execution_count": 3,
     "metadata": {},
     "output_type": "execute_result"
    }
   ],
   "source": [
    "df2 = pd.read_csv('data/file2.csv')\n",
    "df2.head()"
   ]
  },
  {
   "cell_type": "code",
   "execution_count": 4,
   "id": "5f8f11a8",
   "metadata": {},
   "outputs": [
    {
     "data": {
      "text/html": [
       "<div>\n",
       "<style scoped>\n",
       "    .dataframe tbody tr th:only-of-type {\n",
       "        vertical-align: middle;\n",
       "    }\n",
       "\n",
       "    .dataframe tbody tr th {\n",
       "        vertical-align: top;\n",
       "    }\n",
       "\n",
       "    .dataframe thead th {\n",
       "        text-align: right;\n",
       "    }\n",
       "</style>\n",
       "<table border=\"1\" class=\"dataframe\">\n",
       "  <thead>\n",
       "    <tr style=\"text-align: right;\">\n",
       "      <th></th>\n",
       "      <th>Customer</th>\n",
       "      <th>State</th>\n",
       "      <th>Customer Lifetime Value</th>\n",
       "      <th>Education</th>\n",
       "      <th>Gender</th>\n",
       "      <th>Income</th>\n",
       "      <th>Monthly Premium Auto</th>\n",
       "      <th>Number of Open Complaints</th>\n",
       "      <th>Policy Type</th>\n",
       "      <th>Total Claim Amount</th>\n",
       "      <th>Vehicle Class</th>\n",
       "    </tr>\n",
       "  </thead>\n",
       "  <tbody>\n",
       "    <tr>\n",
       "      <th>0</th>\n",
       "      <td>SA25987</td>\n",
       "      <td>Washington</td>\n",
       "      <td>3479.137523</td>\n",
       "      <td>High School or Below</td>\n",
       "      <td>M</td>\n",
       "      <td>0</td>\n",
       "      <td>104</td>\n",
       "      <td>0</td>\n",
       "      <td>Personal Auto</td>\n",
       "      <td>499.200000</td>\n",
       "      <td>Two-Door Car</td>\n",
       "    </tr>\n",
       "    <tr>\n",
       "      <th>1</th>\n",
       "      <td>TB86706</td>\n",
       "      <td>Arizona</td>\n",
       "      <td>2502.637401</td>\n",
       "      <td>Master</td>\n",
       "      <td>M</td>\n",
       "      <td>0</td>\n",
       "      <td>66</td>\n",
       "      <td>0</td>\n",
       "      <td>Personal Auto</td>\n",
       "      <td>3.468912</td>\n",
       "      <td>Two-Door Car</td>\n",
       "    </tr>\n",
       "    <tr>\n",
       "      <th>2</th>\n",
       "      <td>ZL73902</td>\n",
       "      <td>Nevada</td>\n",
       "      <td>3265.156348</td>\n",
       "      <td>Bachelor</td>\n",
       "      <td>F</td>\n",
       "      <td>25820</td>\n",
       "      <td>82</td>\n",
       "      <td>0</td>\n",
       "      <td>Personal Auto</td>\n",
       "      <td>393.600000</td>\n",
       "      <td>Four-Door Car</td>\n",
       "    </tr>\n",
       "    <tr>\n",
       "      <th>3</th>\n",
       "      <td>KX23516</td>\n",
       "      <td>California</td>\n",
       "      <td>4455.843406</td>\n",
       "      <td>High School or Below</td>\n",
       "      <td>F</td>\n",
       "      <td>0</td>\n",
       "      <td>121</td>\n",
       "      <td>0</td>\n",
       "      <td>Personal Auto</td>\n",
       "      <td>699.615192</td>\n",
       "      <td>SUV</td>\n",
       "    </tr>\n",
       "    <tr>\n",
       "      <th>4</th>\n",
       "      <td>FN77294</td>\n",
       "      <td>California</td>\n",
       "      <td>7704.958480</td>\n",
       "      <td>High School or Below</td>\n",
       "      <td>M</td>\n",
       "      <td>30366</td>\n",
       "      <td>101</td>\n",
       "      <td>2</td>\n",
       "      <td>Personal Auto</td>\n",
       "      <td>484.800000</td>\n",
       "      <td>SUV</td>\n",
       "    </tr>\n",
       "  </tbody>\n",
       "</table>\n",
       "</div>"
      ],
      "text/plain": [
       "  Customer       State  Customer Lifetime Value             Education Gender  \\\n",
       "0  SA25987  Washington              3479.137523  High School or Below      M   \n",
       "1  TB86706     Arizona              2502.637401                Master      M   \n",
       "2  ZL73902      Nevada              3265.156348              Bachelor      F   \n",
       "3  KX23516  California              4455.843406  High School or Below      F   \n",
       "4  FN77294  California              7704.958480  High School or Below      M   \n",
       "\n",
       "   Income  Monthly Premium Auto  Number of Open Complaints    Policy Type  \\\n",
       "0       0                   104                          0  Personal Auto   \n",
       "1       0                    66                          0  Personal Auto   \n",
       "2   25820                    82                          0  Personal Auto   \n",
       "3       0                   121                          0  Personal Auto   \n",
       "4   30366                   101                          2  Personal Auto   \n",
       "\n",
       "   Total Claim Amount  Vehicle Class  \n",
       "0          499.200000   Two-Door Car  \n",
       "1            3.468912   Two-Door Car  \n",
       "2          393.600000  Four-Door Car  \n",
       "3          699.615192            SUV  \n",
       "4          484.800000            SUV  "
      ]
     },
     "execution_count": 4,
     "metadata": {},
     "output_type": "execute_result"
    }
   ],
   "source": [
    "df3 = pd.read_csv('data/file3.csv')\n",
    "df3.head()"
   ]
  },
  {
   "cell_type": "markdown",
   "id": "d591124c",
   "metadata": {},
   "source": [
    "*Now we are checking the shape and column names of the 3 files. There are some incosistent naming amongst the columns. This will be dealt with before concatenating them for the EDA* **==>** "
   ]
  },
  {
   "cell_type": "code",
   "execution_count": 5,
   "id": "b82f99cc",
   "metadata": {
    "scrolled": true
   },
   "outputs": [
    {
     "name": "stdout",
     "output_type": "stream",
     "text": [
      "\u001b[4mTrue\u001b[0m\n",
      "{'ST', 'Gender', 'State', 'GENDER'}\n"
     ]
    }
   ],
   "source": [
    "# to highlight if the shape of all files are compatible\n",
    "print(f'{color.UNDERLINE}{str(df1.shape[1] == df2.shape[1] == df3.shape[1])}{color.END}')\n",
    "\n",
    "# substracting the intersection of sets from the their union will give us the inconsistent column names\n",
    "print((set(df1.columns)|set(df2.columns)|set(df3.columns))-(set(df1.columns)&set(df2.columns)&set(df3.columns)))"
   ]
  },
  {
   "cell_type": "markdown",
   "id": "2eacff2e",
   "metadata": {},
   "source": [
    "*now we can unify the column names* **==>**"
   ]
  },
  {
   "cell_type": "code",
   "execution_count": 6,
   "id": "d3c6668f",
   "metadata": {},
   "outputs": [],
   "source": [
    "df1.rename(columns={'ST':'State', 'GENDER':'Gender', }, inplace=True)\n",
    "df2.rename(columns={'ST':'State', 'GENDER':'Gender', }, inplace=True)"
   ]
  },
  {
   "cell_type": "markdown",
   "id": "32f88fb7",
   "metadata": {},
   "source": [
    "*concataneting the 3 files and checking the result* **==>**"
   ]
  },
  {
   "cell_type": "code",
   "execution_count": 7,
   "id": "151ded82",
   "metadata": {},
   "outputs": [
    {
     "data": {
      "text/html": [
       "<div>\n",
       "<style scoped>\n",
       "    .dataframe tbody tr th:only-of-type {\n",
       "        vertical-align: middle;\n",
       "    }\n",
       "\n",
       "    .dataframe tbody tr th {\n",
       "        vertical-align: top;\n",
       "    }\n",
       "\n",
       "    .dataframe thead th {\n",
       "        text-align: right;\n",
       "    }\n",
       "</style>\n",
       "<table border=\"1\" class=\"dataframe\">\n",
       "  <thead>\n",
       "    <tr style=\"text-align: right;\">\n",
       "      <th></th>\n",
       "      <th>Customer</th>\n",
       "      <th>State</th>\n",
       "      <th>Gender</th>\n",
       "      <th>Education</th>\n",
       "      <th>Customer Lifetime Value</th>\n",
       "      <th>Income</th>\n",
       "      <th>Monthly Premium Auto</th>\n",
       "      <th>Number of Open Complaints</th>\n",
       "      <th>Policy Type</th>\n",
       "      <th>Vehicle Class</th>\n",
       "      <th>Total Claim Amount</th>\n",
       "    </tr>\n",
       "  </thead>\n",
       "  <tbody>\n",
       "    <tr>\n",
       "      <th>0</th>\n",
       "      <td>RB50392</td>\n",
       "      <td>Washington</td>\n",
       "      <td>NaN</td>\n",
       "      <td>Master</td>\n",
       "      <td>NaN</td>\n",
       "      <td>0.0</td>\n",
       "      <td>1000.0</td>\n",
       "      <td>1/0/00</td>\n",
       "      <td>Personal Auto</td>\n",
       "      <td>Four-Door Car</td>\n",
       "      <td>2.704934</td>\n",
       "    </tr>\n",
       "    <tr>\n",
       "      <th>1</th>\n",
       "      <td>QZ44356</td>\n",
       "      <td>Arizona</td>\n",
       "      <td>F</td>\n",
       "      <td>Bachelor</td>\n",
       "      <td>697953.59%</td>\n",
       "      <td>0.0</td>\n",
       "      <td>94.0</td>\n",
       "      <td>1/0/00</td>\n",
       "      <td>Personal Auto</td>\n",
       "      <td>Four-Door Car</td>\n",
       "      <td>1131.464935</td>\n",
       "    </tr>\n",
       "    <tr>\n",
       "      <th>2</th>\n",
       "      <td>AI49188</td>\n",
       "      <td>Nevada</td>\n",
       "      <td>F</td>\n",
       "      <td>Bachelor</td>\n",
       "      <td>1288743.17%</td>\n",
       "      <td>48767.0</td>\n",
       "      <td>108.0</td>\n",
       "      <td>1/0/00</td>\n",
       "      <td>Personal Auto</td>\n",
       "      <td>Two-Door Car</td>\n",
       "      <td>566.472247</td>\n",
       "    </tr>\n",
       "    <tr>\n",
       "      <th>3</th>\n",
       "      <td>WW63253</td>\n",
       "      <td>California</td>\n",
       "      <td>M</td>\n",
       "      <td>Bachelor</td>\n",
       "      <td>764586.18%</td>\n",
       "      <td>0.0</td>\n",
       "      <td>106.0</td>\n",
       "      <td>1/0/00</td>\n",
       "      <td>Corporate Auto</td>\n",
       "      <td>SUV</td>\n",
       "      <td>529.881344</td>\n",
       "    </tr>\n",
       "    <tr>\n",
       "      <th>4</th>\n",
       "      <td>GA49547</td>\n",
       "      <td>Washington</td>\n",
       "      <td>M</td>\n",
       "      <td>High School or Below</td>\n",
       "      <td>536307.65%</td>\n",
       "      <td>36357.0</td>\n",
       "      <td>68.0</td>\n",
       "      <td>1/0/00</td>\n",
       "      <td>Personal Auto</td>\n",
       "      <td>Four-Door Car</td>\n",
       "      <td>17.269323</td>\n",
       "    </tr>\n",
       "    <tr>\n",
       "      <th>5</th>\n",
       "      <td>OC83172</td>\n",
       "      <td>Oregon</td>\n",
       "      <td>F</td>\n",
       "      <td>Bachelor</td>\n",
       "      <td>825629.78%</td>\n",
       "      <td>62902.0</td>\n",
       "      <td>69.0</td>\n",
       "      <td>1/0/00</td>\n",
       "      <td>Personal Auto</td>\n",
       "      <td>Two-Door Car</td>\n",
       "      <td>159.383042</td>\n",
       "    </tr>\n",
       "    <tr>\n",
       "      <th>6</th>\n",
       "      <td>XZ87318</td>\n",
       "      <td>Oregon</td>\n",
       "      <td>F</td>\n",
       "      <td>College</td>\n",
       "      <td>538089.86%</td>\n",
       "      <td>55350.0</td>\n",
       "      <td>67.0</td>\n",
       "      <td>1/0/00</td>\n",
       "      <td>Corporate Auto</td>\n",
       "      <td>Four-Door Car</td>\n",
       "      <td>321.600000</td>\n",
       "    </tr>\n",
       "    <tr>\n",
       "      <th>7</th>\n",
       "      <td>CF85061</td>\n",
       "      <td>Arizona</td>\n",
       "      <td>M</td>\n",
       "      <td>Master</td>\n",
       "      <td>721610.03%</td>\n",
       "      <td>0.0</td>\n",
       "      <td>101.0</td>\n",
       "      <td>1/0/00</td>\n",
       "      <td>Corporate Auto</td>\n",
       "      <td>Four-Door Car</td>\n",
       "      <td>363.029680</td>\n",
       "    </tr>\n",
       "    <tr>\n",
       "      <th>8</th>\n",
       "      <td>DY87989</td>\n",
       "      <td>Oregon</td>\n",
       "      <td>M</td>\n",
       "      <td>Bachelor</td>\n",
       "      <td>2412750.40%</td>\n",
       "      <td>14072.0</td>\n",
       "      <td>71.0</td>\n",
       "      <td>1/0/00</td>\n",
       "      <td>Corporate Auto</td>\n",
       "      <td>Four-Door Car</td>\n",
       "      <td>511.200000</td>\n",
       "    </tr>\n",
       "    <tr>\n",
       "      <th>9</th>\n",
       "      <td>BQ94931</td>\n",
       "      <td>Oregon</td>\n",
       "      <td>F</td>\n",
       "      <td>College</td>\n",
       "      <td>738817.81%</td>\n",
       "      <td>28812.0</td>\n",
       "      <td>93.0</td>\n",
       "      <td>1/0/00</td>\n",
       "      <td>Special Auto</td>\n",
       "      <td>Four-Door Car</td>\n",
       "      <td>425.527834</td>\n",
       "    </tr>\n",
       "  </tbody>\n",
       "</table>\n",
       "</div>"
      ],
      "text/plain": [
       "  Customer       State Gender             Education Customer Lifetime Value  \\\n",
       "0  RB50392  Washington    NaN                Master                     NaN   \n",
       "1  QZ44356     Arizona      F              Bachelor              697953.59%   \n",
       "2  AI49188      Nevada      F              Bachelor             1288743.17%   \n",
       "3  WW63253  California      M              Bachelor              764586.18%   \n",
       "4  GA49547  Washington      M  High School or Below              536307.65%   \n",
       "5  OC83172      Oregon      F              Bachelor              825629.78%   \n",
       "6  XZ87318      Oregon      F               College              538089.86%   \n",
       "7  CF85061     Arizona      M                Master              721610.03%   \n",
       "8  DY87989      Oregon      M              Bachelor             2412750.40%   \n",
       "9  BQ94931      Oregon      F               College              738817.81%   \n",
       "\n",
       "    Income  Monthly Premium Auto Number of Open Complaints     Policy Type  \\\n",
       "0      0.0                1000.0                    1/0/00   Personal Auto   \n",
       "1      0.0                  94.0                    1/0/00   Personal Auto   \n",
       "2  48767.0                 108.0                    1/0/00   Personal Auto   \n",
       "3      0.0                 106.0                    1/0/00  Corporate Auto   \n",
       "4  36357.0                  68.0                    1/0/00   Personal Auto   \n",
       "5  62902.0                  69.0                    1/0/00   Personal Auto   \n",
       "6  55350.0                  67.0                    1/0/00  Corporate Auto   \n",
       "7      0.0                 101.0                    1/0/00  Corporate Auto   \n",
       "8  14072.0                  71.0                    1/0/00  Corporate Auto   \n",
       "9  28812.0                  93.0                    1/0/00    Special Auto   \n",
       "\n",
       "   Vehicle Class  Total Claim Amount  \n",
       "0  Four-Door Car            2.704934  \n",
       "1  Four-Door Car         1131.464935  \n",
       "2   Two-Door Car          566.472247  \n",
       "3            SUV          529.881344  \n",
       "4  Four-Door Car           17.269323  \n",
       "5   Two-Door Car          159.383042  \n",
       "6  Four-Door Car          321.600000  \n",
       "7  Four-Door Car          363.029680  \n",
       "8  Four-Door Car          511.200000  \n",
       "9  Four-Door Car          425.527834  "
      ]
     },
     "execution_count": 7,
     "metadata": {},
     "output_type": "execute_result"
    }
   ],
   "source": [
    "df = pd.concat([df1, df2, df3]).reset_index(drop=True)\n",
    "df.head(10)"
   ]
  },
  {
   "cell_type": "markdown",
   "id": "d610a4c8",
   "metadata": {},
   "source": [
    "## Initial EDA and data cleaning"
   ]
  },
  {
   "cell_type": "markdown",
   "id": "13c0c047",
   "metadata": {},
   "source": [
    "*First let`s do some standardizing for easier reference* **==>**\n",
    "\n",
    "[back to top](#Contents)"
   ]
  },
  {
   "cell_type": "code",
   "execution_count": 8,
   "id": "12fd702e",
   "metadata": {},
   "outputs": [
    {
     "data": {
      "text/html": [
       "<div>\n",
       "<style scoped>\n",
       "    .dataframe tbody tr th:only-of-type {\n",
       "        vertical-align: middle;\n",
       "    }\n",
       "\n",
       "    .dataframe tbody tr th {\n",
       "        vertical-align: top;\n",
       "    }\n",
       "\n",
       "    .dataframe thead th {\n",
       "        text-align: right;\n",
       "    }\n",
       "</style>\n",
       "<table border=\"1\" class=\"dataframe\">\n",
       "  <thead>\n",
       "    <tr style=\"text-align: right;\">\n",
       "      <th></th>\n",
       "      <th>customer</th>\n",
       "      <th>state</th>\n",
       "      <th>gender</th>\n",
       "      <th>education</th>\n",
       "      <th>customer_lifetime_value</th>\n",
       "      <th>income</th>\n",
       "      <th>monthly_premium_auto</th>\n",
       "      <th>number_of_open_complaints</th>\n",
       "      <th>policy_type</th>\n",
       "      <th>vehicle_class</th>\n",
       "      <th>total_claim_amount</th>\n",
       "    </tr>\n",
       "  </thead>\n",
       "  <tbody>\n",
       "    <tr>\n",
       "      <th>0</th>\n",
       "      <td>RB50392</td>\n",
       "      <td>Washington</td>\n",
       "      <td>NaN</td>\n",
       "      <td>Master</td>\n",
       "      <td>NaN</td>\n",
       "      <td>0.0</td>\n",
       "      <td>1000.0</td>\n",
       "      <td>1/0/00</td>\n",
       "      <td>Personal Auto</td>\n",
       "      <td>Four-Door Car</td>\n",
       "      <td>2.704934</td>\n",
       "    </tr>\n",
       "    <tr>\n",
       "      <th>1</th>\n",
       "      <td>QZ44356</td>\n",
       "      <td>Arizona</td>\n",
       "      <td>F</td>\n",
       "      <td>Bachelor</td>\n",
       "      <td>697953.59%</td>\n",
       "      <td>0.0</td>\n",
       "      <td>94.0</td>\n",
       "      <td>1/0/00</td>\n",
       "      <td>Personal Auto</td>\n",
       "      <td>Four-Door Car</td>\n",
       "      <td>1131.464935</td>\n",
       "    </tr>\n",
       "    <tr>\n",
       "      <th>2</th>\n",
       "      <td>AI49188</td>\n",
       "      <td>Nevada</td>\n",
       "      <td>F</td>\n",
       "      <td>Bachelor</td>\n",
       "      <td>1288743.17%</td>\n",
       "      <td>48767.0</td>\n",
       "      <td>108.0</td>\n",
       "      <td>1/0/00</td>\n",
       "      <td>Personal Auto</td>\n",
       "      <td>Two-Door Car</td>\n",
       "      <td>566.472247</td>\n",
       "    </tr>\n",
       "    <tr>\n",
       "      <th>3</th>\n",
       "      <td>WW63253</td>\n",
       "      <td>California</td>\n",
       "      <td>M</td>\n",
       "      <td>Bachelor</td>\n",
       "      <td>764586.18%</td>\n",
       "      <td>0.0</td>\n",
       "      <td>106.0</td>\n",
       "      <td>1/0/00</td>\n",
       "      <td>Corporate Auto</td>\n",
       "      <td>SUV</td>\n",
       "      <td>529.881344</td>\n",
       "    </tr>\n",
       "    <tr>\n",
       "      <th>4</th>\n",
       "      <td>GA49547</td>\n",
       "      <td>Washington</td>\n",
       "      <td>M</td>\n",
       "      <td>High School or Below</td>\n",
       "      <td>536307.65%</td>\n",
       "      <td>36357.0</td>\n",
       "      <td>68.0</td>\n",
       "      <td>1/0/00</td>\n",
       "      <td>Personal Auto</td>\n",
       "      <td>Four-Door Car</td>\n",
       "      <td>17.269323</td>\n",
       "    </tr>\n",
       "  </tbody>\n",
       "</table>\n",
       "</div>"
      ],
      "text/plain": [
       "  customer       state gender             education customer_lifetime_value  \\\n",
       "0  RB50392  Washington    NaN                Master                     NaN   \n",
       "1  QZ44356     Arizona      F              Bachelor              697953.59%   \n",
       "2  AI49188      Nevada      F              Bachelor             1288743.17%   \n",
       "3  WW63253  California      M              Bachelor              764586.18%   \n",
       "4  GA49547  Washington      M  High School or Below              536307.65%   \n",
       "\n",
       "    income  monthly_premium_auto number_of_open_complaints     policy_type  \\\n",
       "0      0.0                1000.0                    1/0/00   Personal Auto   \n",
       "1      0.0                  94.0                    1/0/00   Personal Auto   \n",
       "2  48767.0                 108.0                    1/0/00   Personal Auto   \n",
       "3      0.0                 106.0                    1/0/00  Corporate Auto   \n",
       "4  36357.0                  68.0                    1/0/00   Personal Auto   \n",
       "\n",
       "   vehicle_class  total_claim_amount  \n",
       "0  Four-Door Car            2.704934  \n",
       "1  Four-Door Car         1131.464935  \n",
       "2   Two-Door Car          566.472247  \n",
       "3            SUV          529.881344  \n",
       "4  Four-Door Car           17.269323  "
      ]
     },
     "execution_count": 8,
     "metadata": {},
     "output_type": "execute_result"
    }
   ],
   "source": [
    "# changing all columns to lower case and into a consistent format\n",
    "df.columns = (df.columns\n",
    "              .str.lower()\n",
    "              .str.replace(' ','_'))\n",
    "df.head()"
   ]
  },
  {
   "cell_type": "markdown",
   "id": "fe640c42",
   "metadata": {},
   "source": [
    "*The customer columns is not holding any descriptive value for our analysis thus we remove it* **==>**"
   ]
  },
  {
   "cell_type": "code",
   "execution_count": 9,
   "id": "696924a5",
   "metadata": {},
   "outputs": [
    {
     "data": {
      "text/html": [
       "<div>\n",
       "<style scoped>\n",
       "    .dataframe tbody tr th:only-of-type {\n",
       "        vertical-align: middle;\n",
       "    }\n",
       "\n",
       "    .dataframe tbody tr th {\n",
       "        vertical-align: top;\n",
       "    }\n",
       "\n",
       "    .dataframe thead th {\n",
       "        text-align: right;\n",
       "    }\n",
       "</style>\n",
       "<table border=\"1\" class=\"dataframe\">\n",
       "  <thead>\n",
       "    <tr style=\"text-align: right;\">\n",
       "      <th></th>\n",
       "      <th>state</th>\n",
       "      <th>gender</th>\n",
       "      <th>education</th>\n",
       "      <th>customer_lifetime_value</th>\n",
       "      <th>income</th>\n",
       "      <th>monthly_premium_auto</th>\n",
       "      <th>number_of_open_complaints</th>\n",
       "      <th>policy_type</th>\n",
       "      <th>vehicle_class</th>\n",
       "      <th>total_claim_amount</th>\n",
       "    </tr>\n",
       "  </thead>\n",
       "  <tbody>\n",
       "    <tr>\n",
       "      <th>0</th>\n",
       "      <td>Washington</td>\n",
       "      <td>NaN</td>\n",
       "      <td>Master</td>\n",
       "      <td>NaN</td>\n",
       "      <td>0.0</td>\n",
       "      <td>1000.0</td>\n",
       "      <td>1/0/00</td>\n",
       "      <td>Personal Auto</td>\n",
       "      <td>Four-Door Car</td>\n",
       "      <td>2.704934</td>\n",
       "    </tr>\n",
       "    <tr>\n",
       "      <th>1</th>\n",
       "      <td>Arizona</td>\n",
       "      <td>F</td>\n",
       "      <td>Bachelor</td>\n",
       "      <td>697953.59%</td>\n",
       "      <td>0.0</td>\n",
       "      <td>94.0</td>\n",
       "      <td>1/0/00</td>\n",
       "      <td>Personal Auto</td>\n",
       "      <td>Four-Door Car</td>\n",
       "      <td>1131.464935</td>\n",
       "    </tr>\n",
       "    <tr>\n",
       "      <th>2</th>\n",
       "      <td>Nevada</td>\n",
       "      <td>F</td>\n",
       "      <td>Bachelor</td>\n",
       "      <td>1288743.17%</td>\n",
       "      <td>48767.0</td>\n",
       "      <td>108.0</td>\n",
       "      <td>1/0/00</td>\n",
       "      <td>Personal Auto</td>\n",
       "      <td>Two-Door Car</td>\n",
       "      <td>566.472247</td>\n",
       "    </tr>\n",
       "    <tr>\n",
       "      <th>3</th>\n",
       "      <td>California</td>\n",
       "      <td>M</td>\n",
       "      <td>Bachelor</td>\n",
       "      <td>764586.18%</td>\n",
       "      <td>0.0</td>\n",
       "      <td>106.0</td>\n",
       "      <td>1/0/00</td>\n",
       "      <td>Corporate Auto</td>\n",
       "      <td>SUV</td>\n",
       "      <td>529.881344</td>\n",
       "    </tr>\n",
       "    <tr>\n",
       "      <th>4</th>\n",
       "      <td>Washington</td>\n",
       "      <td>M</td>\n",
       "      <td>High School or Below</td>\n",
       "      <td>536307.65%</td>\n",
       "      <td>36357.0</td>\n",
       "      <td>68.0</td>\n",
       "      <td>1/0/00</td>\n",
       "      <td>Personal Auto</td>\n",
       "      <td>Four-Door Car</td>\n",
       "      <td>17.269323</td>\n",
       "    </tr>\n",
       "  </tbody>\n",
       "</table>\n",
       "</div>"
      ],
      "text/plain": [
       "        state gender             education customer_lifetime_value   income  \\\n",
       "0  Washington    NaN                Master                     NaN      0.0   \n",
       "1     Arizona      F              Bachelor              697953.59%      0.0   \n",
       "2      Nevada      F              Bachelor             1288743.17%  48767.0   \n",
       "3  California      M              Bachelor              764586.18%      0.0   \n",
       "4  Washington      M  High School or Below              536307.65%  36357.0   \n",
       "\n",
       "   monthly_premium_auto number_of_open_complaints     policy_type  \\\n",
       "0                1000.0                    1/0/00   Personal Auto   \n",
       "1                  94.0                    1/0/00   Personal Auto   \n",
       "2                 108.0                    1/0/00   Personal Auto   \n",
       "3                 106.0                    1/0/00  Corporate Auto   \n",
       "4                  68.0                    1/0/00   Personal Auto   \n",
       "\n",
       "   vehicle_class  total_claim_amount  \n",
       "0  Four-Door Car            2.704934  \n",
       "1  Four-Door Car         1131.464935  \n",
       "2   Two-Door Car          566.472247  \n",
       "3            SUV          529.881344  \n",
       "4  Four-Door Car           17.269323  "
      ]
     },
     "execution_count": 9,
     "metadata": {},
     "output_type": "execute_result"
    }
   ],
   "source": [
    "df.drop(columns='customer', inplace=True)\n",
    "df.head()"
   ]
  },
  {
   "cell_type": "markdown",
   "id": "9aa2ea5c",
   "metadata": {},
   "source": [
    "*Now we only have columns holding valuable information, we look at possible empty rows* **==>**"
   ]
  },
  {
   "cell_type": "code",
   "execution_count": 10,
   "id": "98d68540",
   "metadata": {},
   "outputs": [
    {
     "data": {
      "text/plain": [
       "state                        2937\n",
       "gender                       3059\n",
       "education                    2937\n",
       "customer_lifetime_value      2944\n",
       "income                       2937\n",
       "monthly_premium_auto         2937\n",
       "number_of_open_complaints    2937\n",
       "policy_type                  2937\n",
       "vehicle_class                2937\n",
       "total_claim_amount           2937\n",
       "dtype: int64"
      ]
     },
     "execution_count": 10,
     "metadata": {},
     "output_type": "execute_result"
    }
   ],
   "source": [
    "df.isna().sum()"
   ]
  },
  {
   "cell_type": "markdown",
   "id": "31bc72f2",
   "metadata": {},
   "source": [
    "*We have a minimum of 2937 NaN values in every column, which indicates a lot of completely empty rows.\n",
    "To deal with this situation we delete the rows where ALL values are null.* **==>**"
   ]
  },
  {
   "cell_type": "code",
   "execution_count": 11,
   "id": "3a780d77",
   "metadata": {},
   "outputs": [
    {
     "data": {
      "text/plain": [
       "state                          0\n",
       "gender                       122\n",
       "education                      0\n",
       "customer_lifetime_value        7\n",
       "income                         0\n",
       "monthly_premium_auto           0\n",
       "number_of_open_complaints      0\n",
       "policy_type                    0\n",
       "vehicle_class                  0\n",
       "total_claim_amount             0\n",
       "dtype: int64"
      ]
     },
     "execution_count": 11,
     "metadata": {},
     "output_type": "execute_result"
    }
   ],
   "source": [
    "df.dropna(how='all', inplace=True)\n",
    "# quickly reset the index to reorganize them after the NaN purge\n",
    "df.reset_index(drop=True, inplace=True)\n",
    "df.isna().sum()"
   ]
  },
  {
   "cell_type": "code",
   "execution_count": 12,
   "id": "92e7838a",
   "metadata": {},
   "outputs": [
    {
     "name": "stdout",
     "output_type": "stream",
     "text": [
      "<class 'pandas.core.frame.DataFrame'>\n",
      "RangeIndex: 9137 entries, 0 to 9136\n",
      "Data columns (total 10 columns):\n",
      " #   Column                     Non-Null Count  Dtype  \n",
      "---  ------                     --------------  -----  \n",
      " 0   state                      9137 non-null   object \n",
      " 1   gender                     9015 non-null   object \n",
      " 2   education                  9137 non-null   object \n",
      " 3   customer_lifetime_value    9130 non-null   object \n",
      " 4   income                     9137 non-null   float64\n",
      " 5   monthly_premium_auto       9137 non-null   float64\n",
      " 6   number_of_open_complaints  9137 non-null   object \n",
      " 7   policy_type                9137 non-null   object \n",
      " 8   vehicle_class              9137 non-null   object \n",
      " 9   total_claim_amount         9137 non-null   float64\n",
      "dtypes: float64(3), object(7)\n",
      "memory usage: 714.0+ KB\n"
     ]
    }
   ],
   "source": [
    "df.info()"
   ]
  },
  {
   "cell_type": "markdown",
   "id": "22af7fcf",
   "metadata": {},
   "source": [
    "*Now that we don`t have empty rows anymore, we can explore the data further* **==>**"
   ]
  },
  {
   "cell_type": "code",
   "execution_count": 13,
   "id": "692251f5",
   "metadata": {},
   "outputs": [
    {
     "data": {
      "text/plain": [
       "state                           8\n",
       "gender                          5\n",
       "education                       6\n",
       "customer_lifetime_value      8211\n",
       "income                       5655\n",
       "monthly_premium_auto          209\n",
       "number_of_open_complaints      12\n",
       "policy_type                     3\n",
       "vehicle_class                   6\n",
       "total_claim_amount           5070\n",
       "dtype: int64"
      ]
     },
     "execution_count": 13,
     "metadata": {},
     "output_type": "execute_result"
    }
   ],
   "source": [
    "df.nunique()"
   ]
  },
  {
   "cell_type": "code",
   "execution_count": 14,
   "id": "674f2773",
   "metadata": {},
   "outputs": [
    {
     "data": {
      "text/html": [
       "<div>\n",
       "<style scoped>\n",
       "    .dataframe tbody tr th:only-of-type {\n",
       "        vertical-align: middle;\n",
       "    }\n",
       "\n",
       "    .dataframe tbody tr th {\n",
       "        vertical-align: top;\n",
       "    }\n",
       "\n",
       "    .dataframe thead th {\n",
       "        text-align: right;\n",
       "    }\n",
       "</style>\n",
       "<table border=\"1\" class=\"dataframe\">\n",
       "  <thead>\n",
       "    <tr style=\"text-align: right;\">\n",
       "      <th></th>\n",
       "      <th>count</th>\n",
       "      <th>mean</th>\n",
       "      <th>std</th>\n",
       "      <th>min</th>\n",
       "      <th>25%</th>\n",
       "      <th>50%</th>\n",
       "      <th>75%</th>\n",
       "      <th>max</th>\n",
       "    </tr>\n",
       "  </thead>\n",
       "  <tbody>\n",
       "    <tr>\n",
       "      <th>income</th>\n",
       "      <td>9137.0</td>\n",
       "      <td>37828.820291</td>\n",
       "      <td>30358.716159</td>\n",
       "      <td>0.000000</td>\n",
       "      <td>0.000000</td>\n",
       "      <td>34244.000000</td>\n",
       "      <td>62447.000000</td>\n",
       "      <td>99981.000000</td>\n",
       "    </tr>\n",
       "    <tr>\n",
       "      <th>monthly_premium_auto</th>\n",
       "      <td>9137.0</td>\n",
       "      <td>110.391266</td>\n",
       "      <td>581.376032</td>\n",
       "      <td>61.000000</td>\n",
       "      <td>68.000000</td>\n",
       "      <td>83.000000</td>\n",
       "      <td>109.000000</td>\n",
       "      <td>35354.000000</td>\n",
       "    </tr>\n",
       "    <tr>\n",
       "      <th>total_claim_amount</th>\n",
       "      <td>9137.0</td>\n",
       "      <td>430.527140</td>\n",
       "      <td>289.582968</td>\n",
       "      <td>0.099007</td>\n",
       "      <td>266.996814</td>\n",
       "      <td>377.561463</td>\n",
       "      <td>546.420009</td>\n",
       "      <td>2893.239678</td>\n",
       "    </tr>\n",
       "  </tbody>\n",
       "</table>\n",
       "</div>"
      ],
      "text/plain": [
       "                       count          mean           std        min  \\\n",
       "income                9137.0  37828.820291  30358.716159   0.000000   \n",
       "monthly_premium_auto  9137.0    110.391266    581.376032  61.000000   \n",
       "total_claim_amount    9137.0    430.527140    289.582968   0.099007   \n",
       "\n",
       "                             25%           50%           75%           max  \n",
       "income                  0.000000  34244.000000  62447.000000  99981.000000  \n",
       "monthly_premium_auto   68.000000     83.000000    109.000000  35354.000000  \n",
       "total_claim_amount    266.996814    377.561463    546.420009   2893.239678  "
      ]
     },
     "execution_count": 14,
     "metadata": {},
     "output_type": "execute_result"
    }
   ],
   "source": [
    "df.describe().T"
   ]
  },
  {
   "cell_type": "code",
   "execution_count": 15,
   "id": "b834495f",
   "metadata": {},
   "outputs": [
    {
     "name": "stdout",
     "output_type": "stream",
     "text": [
      "California    3032\n",
      "Oregon        2601\n",
      "Arizona       1630\n",
      "Nevada         882\n",
      "Washington     768\n",
      "Cali           120\n",
      "AZ              74\n",
      "WA              30\n",
      "Name: state, dtype: int64 \n",
      "\n",
      "\n",
      "F         4560\n",
      "M         4368\n",
      "NaN        122\n",
      "Male        40\n",
      "female      30\n",
      "Femal       17\n",
      "Name: gender, dtype: int64 \n",
      "\n",
      "\n",
      "Bachelor                2719\n",
      "College                 2682\n",
      "High School or Below    2616\n",
      "Master                   752\n",
      "Doctor                   344\n",
      "Bachelors                 24\n",
      "Name: education, dtype: int64 \n",
      "\n",
      "\n",
      "NaN             7\n",
      "4984.618655     6\n",
      "25464.820590    6\n",
      "5246.278375     6\n",
      "22332.439460    6\n",
      "               ..\n",
      "7477.176362     1\n",
      "15700.284360    1\n",
      "2968.077571     1\n",
      "5452.171237     1\n",
      "2611.836866     1\n",
      "Name: customer_lifetime_value, Length: 8212, dtype: int64 \n",
      "\n",
      "\n",
      "0.0        2294\n",
      "95697.0      13\n",
      "26876.0       8\n",
      "61108.0       8\n",
      "10621.0       8\n",
      "           ... \n",
      "26599.0       1\n",
      "75774.0       1\n",
      "85412.0       1\n",
      "42968.0       1\n",
      "21941.0       1\n",
      "Name: income, Length: 5655, dtype: int64 \n",
      "\n",
      "\n",
      "65.0     351\n",
      "66.0     312\n",
      "71.0     304\n",
      "73.0     303\n",
      "63.0     290\n",
      "        ... \n",
      "178.0      1\n",
      "204.0      1\n",
      "281.0      1\n",
      "275.0      1\n",
      "286.0      1\n",
      "Name: monthly_premium_auto, Length: 209, dtype: int64 \n",
      "\n",
      "\n",
      "0         5629\n",
      "1/0/00    1626\n",
      "1          765\n",
      "2          283\n",
      "1/1/00     247\n",
      "3          230\n",
      "4          119\n",
      "1/2/00      93\n",
      "1/3/00      60\n",
      "5           44\n",
      "1/4/00      29\n",
      "1/5/00      12\n",
      "Name: number_of_open_complaints, dtype: int64 \n",
      "\n",
      "\n",
      "Personal Auto     6792\n",
      "Corporate Auto    1965\n",
      "Special Auto       380\n",
      "Name: policy_type, dtype: int64 \n",
      "\n",
      "\n",
      "Four-Door Car    4641\n",
      "Two-Door Car     1896\n",
      "SUV              1774\n",
      "Sports Car        483\n",
      "Luxury SUV        182\n",
      "Luxury Car        161\n",
      "Name: vehicle_class, dtype: int64 \n",
      "\n",
      "\n",
      "316.800000    119\n",
      "292.800000    111\n",
      "312.000000    108\n",
      "350.400000    107\n",
      "321.600000    104\n",
      "             ... \n",
      "434.757900      1\n",
      "389.636991      1\n",
      "114.743547      1\n",
      "733.737214      1\n",
      "790.784983      1\n",
      "Name: total_claim_amount, Length: 5070, dtype: int64 \n",
      "\n",
      "\n"
     ]
    }
   ],
   "source": [
    "for c in df.columns:\n",
    "    print(df[c].value_counts(dropna=False), '\\n\\n')"
   ]
  },
  {
   "cell_type": "markdown",
   "id": "19ad5069",
   "metadata": {},
   "source": [
    "*The initial insight shows further irregularities, such as multiple aliases in the **state** column, the **gender** column has too many unique values and the **income** column contains many 0 values which can be considered as NaN and need to be dealt with. There are minor inconsistencies in other columns as well*"
   ]
  },
  {
   "cell_type": "markdown",
   "id": "a9a3e82c",
   "metadata": {},
   "source": [
    "*Let`s deal with these problems step-by-step* **==>**"
   ]
  },
  {
   "cell_type": "code",
   "execution_count": 16,
   "id": "8bee40bc",
   "metadata": {},
   "outputs": [
    {
     "data": {
      "text/plain": [
       "California    3032\n",
       "Oregon        2601\n",
       "Arizona       1630\n",
       "Nevada         882\n",
       "Washington     768\n",
       "Cali           120\n",
       "AZ              74\n",
       "WA              30\n",
       "Name: state, dtype: int64"
      ]
     },
     "execution_count": 16,
     "metadata": {},
     "output_type": "execute_result"
    }
   ],
   "source": [
    "# cleaning the state column\n",
    "df['state'].value_counts(dropna=False)"
   ]
  },
  {
   "cell_type": "code",
   "execution_count": 17,
   "id": "ae7c0be7",
   "metadata": {},
   "outputs": [
    {
     "data": {
      "text/plain": [
       "California    3152\n",
       "Oregon        2601\n",
       "Arizona       1704\n",
       "Nevada         882\n",
       "Washington     798\n",
       "Name: state, dtype: int64"
      ]
     },
     "execution_count": 17,
     "metadata": {},
     "output_type": "execute_result"
    }
   ],
   "source": [
    "df['state'].replace({'Cali':'California', 'AZ':'Arizona', 'WA':'Washington'}, inplace=True)\n",
    "df['state'].value_counts()"
   ]
  },
  {
   "cell_type": "code",
   "execution_count": 18,
   "id": "c5fdf472",
   "metadata": {},
   "outputs": [
    {
     "data": {
      "text/plain": [
       "F         4560\n",
       "M         4368\n",
       "Male        40\n",
       "female      30\n",
       "Femal       17\n",
       "Name: gender, dtype: int64"
      ]
     },
     "execution_count": 18,
     "metadata": {},
     "output_type": "execute_result"
    }
   ],
   "source": [
    "df['gender'].value_counts()"
   ]
  },
  {
   "cell_type": "markdown",
   "id": "28a69954",
   "metadata": {},
   "source": [
    "*Doing the same to the **gender** and **education** column and also filling missing data with* **Unknown**==>**"
   ]
  },
  {
   "cell_type": "code",
   "execution_count": 19,
   "id": "e92e7614",
   "metadata": {},
   "outputs": [
    {
     "data": {
      "text/plain": [
       "Female     4607\n",
       "Male       4408\n",
       "Unknown     122\n",
       "Name: gender, dtype: int64"
      ]
     },
     "execution_count": 19,
     "metadata": {},
     "output_type": "execute_result"
    }
   ],
   "source": [
    "df['gender'] = df['gender'].replace({'F':'Female', 'M':'Male', 'female':'Female', 'Femal':'Female'}).fillna('Unknown')\n",
    "df['gender'].value_counts()"
   ]
  },
  {
   "cell_type": "code",
   "execution_count": 20,
   "id": "03cdee6e",
   "metadata": {},
   "outputs": [
    {
     "data": {
      "text/plain": [
       "Bachelor                2719\n",
       "College                 2682\n",
       "High School or Below    2616\n",
       "Master                   752\n",
       "Doctor                   344\n",
       "Bachelors                 24\n",
       "Name: education, dtype: int64"
      ]
     },
     "execution_count": 20,
     "metadata": {},
     "output_type": "execute_result"
    }
   ],
   "source": [
    "df['education'].value_counts(dropna=False)"
   ]
  },
  {
   "cell_type": "code",
   "execution_count": 21,
   "id": "4e060f29",
   "metadata": {},
   "outputs": [
    {
     "data": {
      "text/plain": [
       "Bachelor                2743\n",
       "College                 2682\n",
       "High School or Below    2616\n",
       "Master                   752\n",
       "Doctor                   344\n",
       "Name: education, dtype: int64"
      ]
     },
     "execution_count": 21,
     "metadata": {},
     "output_type": "execute_result"
    }
   ],
   "source": [
    "df['education'].replace('Bachelors','Bachelor', inplace=True)\n",
    "df['education'].value_counts()"
   ]
  },
  {
   "cell_type": "markdown",
   "id": "71b7a268",
   "metadata": {},
   "source": [
    "*It is time to deal with other types of inconsistent inputs too* **==>**"
   ]
  },
  {
   "cell_type": "code",
   "execution_count": 22,
   "id": "b8398a74",
   "metadata": {},
   "outputs": [
    {
     "data": {
      "text/plain": [
       "state                         object\n",
       "gender                        object\n",
       "education                     object\n",
       "customer_lifetime_value       object\n",
       "income                       float64\n",
       "monthly_premium_auto         float64\n",
       "number_of_open_complaints     object\n",
       "policy_type                   object\n",
       "vehicle_class                 object\n",
       "total_claim_amount           float64\n",
       "dtype: object"
      ]
     },
     "execution_count": 22,
     "metadata": {},
     "output_type": "execute_result"
    }
   ],
   "source": [
    "df.dtypes"
   ]
  },
  {
   "cell_type": "markdown",
   "id": "6942eca5",
   "metadata": {},
   "source": [
    "*The **customer_lifetime_value** is a key metric in our analysis, however it should be a numeric column and also missing values* **==>**"
   ]
  },
  {
   "cell_type": "code",
   "execution_count": 23,
   "id": "73b4aec9",
   "metadata": {
    "scrolled": true
   },
   "outputs": [
    {
     "data": {
      "text/plain": [
       "array([nan, '697953.59%', '1288743.17%', ..., 8163.890428, 7524.442436,\n",
       "       2611.836866], dtype=object)"
      ]
     },
     "execution_count": 23,
     "metadata": {},
     "output_type": "execute_result"
    }
   ],
   "source": [
    "df['customer_lifetime_value'].unique()"
   ]
  },
  {
   "cell_type": "markdown",
   "id": "fd3d75c6",
   "metadata": {},
   "source": [
    "*Looks like we have many **%** special characters, we ought to remove them first before the conversion* **==>**"
   ]
  },
  {
   "cell_type": "code",
   "execution_count": 24,
   "id": "64b047ac",
   "metadata": {},
   "outputs": [],
   "source": [
    "df['customer_lifetime_value'] = pd.to_numeric(df['customer_lifetime_value']\n",
    "                                              .apply(lambda x: x.strip('%') if isinstance(x, str) else x)\n",
    "                                             )"
   ]
  },
  {
   "cell_type": "markdown",
   "id": "315763b4",
   "metadata": {},
   "source": [
    "*The **income** column has **0** as value in many rows, these can be treated as NaN values and imputed later* **==>** "
   ]
  },
  {
   "cell_type": "code",
   "execution_count": 25,
   "id": "6dd91ab7",
   "metadata": {},
   "outputs": [
    {
     "data": {
      "text/plain": [
       "<AxesSubplot:>"
      ]
     },
     "execution_count": 25,
     "metadata": {},
     "output_type": "execute_result"
    },
    {
     "data": {
      "image/png": "[encoded data removed]",
      "text/plain": [
       "<Figure size 432x288 with 1 Axes>"
      ]
     },
     "metadata": {
      "needs_background": "light"
     },
     "output_type": "display_data"
    }
   ],
   "source": [
    "df['income'].hist()"
   ]
  },
  {
   "cell_type": "code",
   "execution_count": 26,
   "id": "7031e036",
   "metadata": {},
   "outputs": [
    {
     "data": {
      "text/plain": [
       "0"
      ]
     },
     "execution_count": 26,
     "metadata": {},
     "output_type": "execute_result"
    }
   ],
   "source": [
    "df['income'].replace(0, np.nan, inplace=True)\n",
    "df[df['income']==0].size # to confirm that there are no zero values left"
   ]
  },
  {
   "cell_type": "markdown",
   "id": "efdb0326",
   "metadata": {},
   "source": [
    "*We continue with the **monthly_premium_auto** column. Which seems to have a good integrity **==>**"
   ]
  },
  {
   "cell_type": "code",
   "execution_count": 27,
   "id": "1ae0796f",
   "metadata": {},
   "outputs": [
    {
     "data": {
      "text/plain": [
       "65     351\n",
       "66     312\n",
       "71     304\n",
       "73     303\n",
       "63     290\n",
       "      ... \n",
       "178      1\n",
       "204      1\n",
       "281      1\n",
       "275      1\n",
       "286      1\n",
       "Name: monthly_premium_auto, Length: 209, dtype: int64"
      ]
     },
     "execution_count": 27,
     "metadata": {},
     "output_type": "execute_result"
    }
   ],
   "source": [
    "df['monthly_premium_auto'] = df['monthly_premium_auto'].astype(int)\n",
    "df['monthly_premium_auto'].value_counts()"
   ]
  },
  {
   "cell_type": "code",
   "execution_count": 28,
   "id": "e3dc4788",
   "metadata": {},
   "outputs": [
    {
     "data": {
      "text/plain": [
       "0"
      ]
     },
     "execution_count": 28,
     "metadata": {},
     "output_type": "execute_result"
    }
   ],
   "source": [
    "df['monthly_premium_auto'].isna().sum()"
   ]
  },
  {
   "cell_type": "markdown",
   "id": "92d3c794",
   "metadata": {},
   "source": [
    "*It is time to standardize the **number_of_open_complaints** column. We need to extract the middle number* **==>**"
   ]
  },
  {
   "cell_type": "code",
   "execution_count": 29,
   "id": "0b22cca2",
   "metadata": {},
   "outputs": [
    {
     "data": {
      "text/plain": [
       "0         5629\n",
       "1/0/00    1626\n",
       "1          765\n",
       "2          283\n",
       "1/1/00     247\n",
       "3          230\n",
       "4          119\n",
       "1/2/00      93\n",
       "1/3/00      60\n",
       "5           44\n",
       "1/4/00      29\n",
       "1/5/00      12\n",
       "Name: number_of_open_complaints, dtype: int64"
      ]
     },
     "execution_count": 29,
     "metadata": {},
     "output_type": "execute_result"
    }
   ],
   "source": [
    "df['number_of_open_complaints'].value_counts()"
   ]
  },
  {
   "cell_type": "code",
   "execution_count": 30,
   "id": "2f515b27",
   "metadata": {},
   "outputs": [],
   "source": [
    "df['number_of_open_complaints'] = df['number_of_open_complaints'].astype(str)"
   ]
  },
  {
   "cell_type": "code",
   "execution_count": 31,
   "id": "17993b8e",
   "metadata": {},
   "outputs": [
    {
     "data": {
      "text/plain": [
       "0    7255\n",
       "1    1012\n",
       "2     376\n",
       "3     290\n",
       "4     148\n",
       "5      56\n",
       "Name: number_of_open_complaints, dtype: int64"
      ]
     },
     "execution_count": 31,
     "metadata": {},
     "output_type": "execute_result"
    }
   ],
   "source": [
    "df['number_of_open_complaints'] = (list(map(lambda x: x[0] if len(x) < 3 else x[1], \n",
    "                                            df['number_of_open_complaints']\n",
    "                                            .astype(str)\n",
    "                                            .str.split('/')))\n",
    "                                  )  \n",
    "df['number_of_open_complaints'].value_counts()"
   ]
  },
  {
   "cell_type": "markdown",
   "id": "3fa8f81a",
   "metadata": {},
   "source": [
    "*We can change to the correct data type later down the pipeline along with the rest of the columns. Now we take the next column* **policy_type ==>**"
   ]
  },
  {
   "cell_type": "code",
   "execution_count": 32,
   "id": "3294073b",
   "metadata": {},
   "outputs": [
    {
     "data": {
      "text/plain": [
       "Personal Auto     6792\n",
       "Corporate Auto    1965\n",
       "Special Auto       380\n",
       "Name: policy_type, dtype: int64"
      ]
     },
     "execution_count": 32,
     "metadata": {},
     "output_type": "execute_result"
    }
   ],
   "source": [
    "df['policy_type'].value_counts()"
   ]
  },
  {
   "cell_type": "code",
   "execution_count": 33,
   "id": "d8d6971b",
   "metadata": {},
   "outputs": [
    {
     "data": {
      "text/plain": [
       "0"
      ]
     },
     "execution_count": 33,
     "metadata": {},
     "output_type": "execute_result"
    }
   ],
   "source": [
    "df['policy_type'].isna().sum()"
   ]
  },
  {
   "cell_type": "markdown",
   "id": "9f3ecc4c",
   "metadata": {},
   "source": [
    "*Looks like this column is in order, let's continue to* **vehicle_class ==>**"
   ]
  },
  {
   "cell_type": "code",
   "execution_count": 34,
   "id": "2a8260c5",
   "metadata": {},
   "outputs": [
    {
     "data": {
      "text/plain": [
       "Four-Door Car    4641\n",
       "Two-Door Car     1896\n",
       "SUV              1774\n",
       "Sports Car        483\n",
       "Luxury SUV        182\n",
       "Luxury Car        161\n",
       "Name: vehicle_class, dtype: int64"
      ]
     },
     "execution_count": 34,
     "metadata": {},
     "output_type": "execute_result"
    }
   ],
   "source": [
    "df['vehicle_class'].value_counts()"
   ]
  },
  {
   "cell_type": "code",
   "execution_count": 35,
   "id": "e30a0bc0",
   "metadata": {},
   "outputs": [
    {
     "data": {
      "text/plain": [
       "0"
      ]
     },
     "execution_count": 35,
     "metadata": {},
     "output_type": "execute_result"
    }
   ],
   "source": [
    "df['vehicle_class'].isna().sum()"
   ]
  },
  {
   "cell_type": "markdown",
   "id": "3567d02b",
   "metadata": {},
   "source": [
    "*No anomalies here, let`s check the last column* **total_claim_amount ==>**"
   ]
  },
  {
   "cell_type": "code",
   "execution_count": 36,
   "id": "d46bc970",
   "metadata": {},
   "outputs": [
    {
     "data": {
      "text/plain": [
       "0"
      ]
     },
     "execution_count": 36,
     "metadata": {},
     "output_type": "execute_result"
    }
   ],
   "source": [
    "df['total_claim_amount'].isna().sum()"
   ]
  },
  {
   "cell_type": "markdown",
   "id": "926224a9",
   "metadata": {},
   "source": [
    "*Another column with no missing value. We are doing a last check, then set all the columns to the right data type. Since many columns has a limited number of unique values, it is more efficent to convert these to **categorical** datatype. Next we are setting a threshold for unique values and convert every object type to categorical below it* **==>** "
   ]
  },
  {
   "cell_type": "code",
   "execution_count": 37,
   "id": "71a574d6",
   "metadata": {},
   "outputs": [
    {
     "data": {
      "text/plain": [
       "state                         object\n",
       "gender                        object\n",
       "education                     object\n",
       "customer_lifetime_value      float64\n",
       "income                       float64\n",
       "monthly_premium_auto           int32\n",
       "number_of_open_complaints     object\n",
       "policy_type                   object\n",
       "vehicle_class                 object\n",
       "total_claim_amount           float64\n",
       "dtype: object"
      ]
     },
     "execution_count": 37,
     "metadata": {},
     "output_type": "execute_result"
    }
   ],
   "source": [
    "df.dtypes"
   ]
  },
  {
   "cell_type": "code",
   "execution_count": 38,
   "id": "70052340",
   "metadata": {},
   "outputs": [
    {
     "data": {
      "text/html": [
       "<div>\n",
       "<style scoped>\n",
       "    .dataframe tbody tr th:only-of-type {\n",
       "        vertical-align: middle;\n",
       "    }\n",
       "\n",
       "    .dataframe tbody tr th {\n",
       "        vertical-align: top;\n",
       "    }\n",
       "\n",
       "    .dataframe thead th {\n",
       "        text-align: right;\n",
       "    }\n",
       "</style>\n",
       "<table border=\"1\" class=\"dataframe\">\n",
       "  <thead>\n",
       "    <tr style=\"text-align: right;\">\n",
       "      <th></th>\n",
       "      <th>state</th>\n",
       "      <th>gender</th>\n",
       "      <th>education</th>\n",
       "      <th>policy_type</th>\n",
       "    </tr>\n",
       "  </thead>\n",
       "  <tbody>\n",
       "    <tr>\n",
       "      <th>0</th>\n",
       "      <td>Washington</td>\n",
       "      <td>Unknown</td>\n",
       "      <td>Master</td>\n",
       "      <td>Personal Auto</td>\n",
       "    </tr>\n",
       "    <tr>\n",
       "      <th>1</th>\n",
       "      <td>Arizona</td>\n",
       "      <td>Female</td>\n",
       "      <td>Bachelor</td>\n",
       "      <td>Personal Auto</td>\n",
       "    </tr>\n",
       "    <tr>\n",
       "      <th>2</th>\n",
       "      <td>Nevada</td>\n",
       "      <td>Female</td>\n",
       "      <td>Bachelor</td>\n",
       "      <td>Personal Auto</td>\n",
       "    </tr>\n",
       "    <tr>\n",
       "      <th>3</th>\n",
       "      <td>California</td>\n",
       "      <td>Male</td>\n",
       "      <td>Bachelor</td>\n",
       "      <td>Corporate Auto</td>\n",
       "    </tr>\n",
       "    <tr>\n",
       "      <th>4</th>\n",
       "      <td>Washington</td>\n",
       "      <td>Male</td>\n",
       "      <td>High School or Below</td>\n",
       "      <td>Personal Auto</td>\n",
       "    </tr>\n",
       "    <tr>\n",
       "      <th>...</th>\n",
       "      <td>...</td>\n",
       "      <td>...</td>\n",
       "      <td>...</td>\n",
       "      <td>...</td>\n",
       "    </tr>\n",
       "    <tr>\n",
       "      <th>9132</th>\n",
       "      <td>California</td>\n",
       "      <td>Male</td>\n",
       "      <td>Bachelor</td>\n",
       "      <td>Personal Auto</td>\n",
       "    </tr>\n",
       "    <tr>\n",
       "      <th>9133</th>\n",
       "      <td>California</td>\n",
       "      <td>Female</td>\n",
       "      <td>College</td>\n",
       "      <td>Corporate Auto</td>\n",
       "    </tr>\n",
       "    <tr>\n",
       "      <th>9134</th>\n",
       "      <td>California</td>\n",
       "      <td>Male</td>\n",
       "      <td>Bachelor</td>\n",
       "      <td>Corporate Auto</td>\n",
       "    </tr>\n",
       "    <tr>\n",
       "      <th>9135</th>\n",
       "      <td>California</td>\n",
       "      <td>Male</td>\n",
       "      <td>College</td>\n",
       "      <td>Personal Auto</td>\n",
       "    </tr>\n",
       "    <tr>\n",
       "      <th>9136</th>\n",
       "      <td>California</td>\n",
       "      <td>Male</td>\n",
       "      <td>College</td>\n",
       "      <td>Corporate Auto</td>\n",
       "    </tr>\n",
       "  </tbody>\n",
       "</table>\n",
       "<p>9137 rows × 4 columns</p>\n",
       "</div>"
      ],
      "text/plain": [
       "           state   gender             education     policy_type\n",
       "0     Washington  Unknown                Master   Personal Auto\n",
       "1        Arizona   Female              Bachelor   Personal Auto\n",
       "2         Nevada   Female              Bachelor   Personal Auto\n",
       "3     California     Male              Bachelor  Corporate Auto\n",
       "4     Washington     Male  High School or Below   Personal Auto\n",
       "...          ...      ...                   ...             ...\n",
       "9132  California     Male              Bachelor   Personal Auto\n",
       "9133  California   Female               College  Corporate Auto\n",
       "9134  California     Male              Bachelor  Corporate Auto\n",
       "9135  California     Male               College   Personal Auto\n",
       "9136  California     Male               College  Corporate Auto\n",
       "\n",
       "[9137 rows x 4 columns]"
      ]
     },
     "execution_count": 38,
     "metadata": {},
     "output_type": "execute_result"
    }
   ],
   "source": [
    "# filtering for the columns having a maximum of 5 distinct values \n",
    "columns_to_cat = list(df.nunique()[df.nunique() <=5].index)\n",
    "df[columns_to_cat]"
   ]
  },
  {
   "cell_type": "code",
   "execution_count": 39,
   "id": "c44a7ef8",
   "metadata": {},
   "outputs": [
    {
     "data": {
      "text/plain": [
       "state                        category\n",
       "gender                       category\n",
       "education                    category\n",
       "customer_lifetime_value       float64\n",
       "income                        float64\n",
       "monthly_premium_auto            int32\n",
       "number_of_open_complaints      object\n",
       "policy_type                  category\n",
       "vehicle_class                  object\n",
       "total_claim_amount            float64\n",
       "dtype: object"
      ]
     },
     "execution_count": 39,
     "metadata": {},
     "output_type": "execute_result"
    }
   ],
   "source": [
    "df[columns_to_cat] = df[columns_to_cat].astype('category')\n",
    "df.dtypes"
   ]
  },
  {
   "cell_type": "markdown",
   "id": "aa000cc3",
   "metadata": {},
   "source": [
    "*Next we change the rest of the columns. However, since NaN values are represented as floats, first we have to do the imputaion then we can convert the remaining floats as integers, since we do not lose any descriptive value.* **==>** "
   ]
  },
  {
   "cell_type": "code",
   "execution_count": 40,
   "id": "ece6efb2",
   "metadata": {},
   "outputs": [
    {
     "data": {
      "text/plain": [
       "state                           0\n",
       "gender                          0\n",
       "education                       0\n",
       "customer_lifetime_value         7\n",
       "income                       2294\n",
       "monthly_premium_auto            0\n",
       "number_of_open_complaints       0\n",
       "policy_type                     0\n",
       "vehicle_class                   0\n",
       "total_claim_amount              0\n",
       "dtype: int64"
      ]
     },
     "execution_count": 40,
     "metadata": {},
     "output_type": "execute_result"
    }
   ],
   "source": [
    "df.isna().sum()"
   ]
  },
  {
   "cell_type": "markdown",
   "id": "113377fc",
   "metadata": {},
   "source": [
    "*We are going to use **IterativeImputer** from the **scikit learn library**. This library is using modeling to estimate the missing values based on their relation to values in other rows with no missing values respectively. We only have a significant amount of missing value in the **income** column and have nearly intact data in the rest, using a model to estimate the missing income values most likely yields a better estimate then using a simple statistic strategy, like the columns mean. However we can still measure the performance-difference later when modeling* **==>**"
   ]
  },
  {
   "cell_type": "code",
   "execution_count": 41,
   "id": "cca52840",
   "metadata": {},
   "outputs": [],
   "source": [
    "# as first step we subset the columns to be imputed\n",
    "cols_to_impute = df[['customer_lifetime_value','income']].columns\n",
    "# then we initialize the imputer object with minimum and maximum values of the aforementioned columns\n",
    "imputer = IterativeImputer(min_value=df[cols_to_impute].min(), max_value=df[cols_to_impute].max())\n",
    "# now we can fit the iterative model and transform the estimation into a numpy array of imputing values\n",
    "impute_values = imputer.fit_transform(df[cols_to_impute])\n",
    "# finally assign the array to the columns to replace the missing values\n",
    "df[cols_to_impute] = impute_values"
   ]
  },
  {
   "cell_type": "code",
   "execution_count": 42,
   "id": "1526e07c",
   "metadata": {},
   "outputs": [
    {
     "data": {
      "text/plain": [
       "state                        0\n",
       "gender                       0\n",
       "education                    0\n",
       "customer_lifetime_value      0\n",
       "income                       0\n",
       "monthly_premium_auto         0\n",
       "number_of_open_complaints    0\n",
       "policy_type                  0\n",
       "vehicle_class                0\n",
       "total_claim_amount           0\n",
       "dtype: int64"
      ]
     },
     "execution_count": 42,
     "metadata": {},
     "output_type": "execute_result"
    }
   ],
   "source": [
    "df.isna().sum()"
   ]
  },
  {
   "cell_type": "code",
   "execution_count": 43,
   "id": "59885c8b",
   "metadata": {},
   "outputs": [
    {
     "data": {
      "text/plain": [
       "<AxesSubplot:>"
      ]
     },
     "execution_count": 43,
     "metadata": {},
     "output_type": "execute_result"
    },
    {
     "data": {
      "image/png": "[encoded data removed]",
      "text/plain": [
       "<Figure size 432x288 with 1 Axes>"
      ]
     },
     "metadata": {
      "needs_background": "light"
     },
     "output_type": "display_data"
    }
   ],
   "source": [
    "df['income'].hist()"
   ]
  },
  {
   "cell_type": "markdown",
   "id": "a4da78be",
   "metadata": {},
   "source": [
    "*As a final step we can change the rest of the incorrect data types* **==>**"
   ]
  },
  {
   "cell_type": "code",
   "execution_count": 44,
   "id": "5e6b655a",
   "metadata": {},
   "outputs": [
    {
     "data": {
      "text/html": [
       "<div>\n",
       "<style scoped>\n",
       "    .dataframe tbody tr th:only-of-type {\n",
       "        vertical-align: middle;\n",
       "    }\n",
       "\n",
       "    .dataframe tbody tr th {\n",
       "        vertical-align: top;\n",
       "    }\n",
       "\n",
       "    .dataframe thead th {\n",
       "        text-align: right;\n",
       "    }\n",
       "</style>\n",
       "<table border=\"1\" class=\"dataframe\">\n",
       "  <thead>\n",
       "    <tr style=\"text-align: right;\">\n",
       "      <th></th>\n",
       "      <th>state</th>\n",
       "      <th>gender</th>\n",
       "      <th>education</th>\n",
       "      <th>customer_lifetime_value</th>\n",
       "      <th>income</th>\n",
       "      <th>monthly_premium_auto</th>\n",
       "      <th>number_of_open_complaints</th>\n",
       "      <th>policy_type</th>\n",
       "      <th>vehicle_class</th>\n",
       "      <th>total_claim_amount</th>\n",
       "    </tr>\n",
       "  </thead>\n",
       "  <tbody>\n",
       "    <tr>\n",
       "      <th>0</th>\n",
       "      <td>Washington</td>\n",
       "      <td>Unknown</td>\n",
       "      <td>Master</td>\n",
       "      <td>182194</td>\n",
       "      <td>50497</td>\n",
       "      <td>1000</td>\n",
       "      <td>0</td>\n",
       "      <td>Personal Auto</td>\n",
       "      <td>Four-Door Car</td>\n",
       "      <td>2</td>\n",
       "    </tr>\n",
       "    <tr>\n",
       "      <th>1</th>\n",
       "      <td>Arizona</td>\n",
       "      <td>Female</td>\n",
       "      <td>Bachelor</td>\n",
       "      <td>697953</td>\n",
       "      <td>51151</td>\n",
       "      <td>94</td>\n",
       "      <td>0</td>\n",
       "      <td>Personal Auto</td>\n",
       "      <td>Four-Door Car</td>\n",
       "      <td>1131</td>\n",
       "    </tr>\n",
       "    <tr>\n",
       "      <th>2</th>\n",
       "      <td>Nevada</td>\n",
       "      <td>Female</td>\n",
       "      <td>Bachelor</td>\n",
       "      <td>1288743</td>\n",
       "      <td>48767</td>\n",
       "      <td>108</td>\n",
       "      <td>0</td>\n",
       "      <td>Personal Auto</td>\n",
       "      <td>Two-Door Car</td>\n",
       "      <td>566</td>\n",
       "    </tr>\n",
       "    <tr>\n",
       "      <th>3</th>\n",
       "      <td>California</td>\n",
       "      <td>Male</td>\n",
       "      <td>Bachelor</td>\n",
       "      <td>764586</td>\n",
       "      <td>51236</td>\n",
       "      <td>106</td>\n",
       "      <td>0</td>\n",
       "      <td>Corporate Auto</td>\n",
       "      <td>SUV</td>\n",
       "      <td>529</td>\n",
       "    </tr>\n",
       "    <tr>\n",
       "      <th>4</th>\n",
       "      <td>Washington</td>\n",
       "      <td>Male</td>\n",
       "      <td>High School or Below</td>\n",
       "      <td>536307</td>\n",
       "      <td>36357</td>\n",
       "      <td>68</td>\n",
       "      <td>0</td>\n",
       "      <td>Personal Auto</td>\n",
       "      <td>Four-Door Car</td>\n",
       "      <td>17</td>\n",
       "    </tr>\n",
       "    <tr>\n",
       "      <th>...</th>\n",
       "      <td>...</td>\n",
       "      <td>...</td>\n",
       "      <td>...</td>\n",
       "      <td>...</td>\n",
       "      <td>...</td>\n",
       "      <td>...</td>\n",
       "      <td>...</td>\n",
       "      <td>...</td>\n",
       "      <td>...</td>\n",
       "      <td>...</td>\n",
       "    </tr>\n",
       "    <tr>\n",
       "      <th>9132</th>\n",
       "      <td>California</td>\n",
       "      <td>Male</td>\n",
       "      <td>Bachelor</td>\n",
       "      <td>23405</td>\n",
       "      <td>71941</td>\n",
       "      <td>73</td>\n",
       "      <td>0</td>\n",
       "      <td>Personal Auto</td>\n",
       "      <td>Four-Door Car</td>\n",
       "      <td>198</td>\n",
       "    </tr>\n",
       "    <tr>\n",
       "      <th>9133</th>\n",
       "      <td>California</td>\n",
       "      <td>Female</td>\n",
       "      <td>College</td>\n",
       "      <td>3096</td>\n",
       "      <td>21604</td>\n",
       "      <td>79</td>\n",
       "      <td>0</td>\n",
       "      <td>Corporate Auto</td>\n",
       "      <td>Four-Door Car</td>\n",
       "      <td>379</td>\n",
       "    </tr>\n",
       "    <tr>\n",
       "      <th>9134</th>\n",
       "      <td>California</td>\n",
       "      <td>Male</td>\n",
       "      <td>Bachelor</td>\n",
       "      <td>8163</td>\n",
       "      <td>50277</td>\n",
       "      <td>85</td>\n",
       "      <td>3</td>\n",
       "      <td>Corporate Auto</td>\n",
       "      <td>Four-Door Car</td>\n",
       "      <td>790</td>\n",
       "    </tr>\n",
       "    <tr>\n",
       "      <th>9135</th>\n",
       "      <td>California</td>\n",
       "      <td>Male</td>\n",
       "      <td>College</td>\n",
       "      <td>7524</td>\n",
       "      <td>21941</td>\n",
       "      <td>96</td>\n",
       "      <td>0</td>\n",
       "      <td>Personal Auto</td>\n",
       "      <td>Four-Door Car</td>\n",
       "      <td>691</td>\n",
       "    </tr>\n",
       "    <tr>\n",
       "      <th>9136</th>\n",
       "      <td>California</td>\n",
       "      <td>Male</td>\n",
       "      <td>College</td>\n",
       "      <td>2611</td>\n",
       "      <td>50270</td>\n",
       "      <td>77</td>\n",
       "      <td>0</td>\n",
       "      <td>Corporate Auto</td>\n",
       "      <td>Two-Door Car</td>\n",
       "      <td>369</td>\n",
       "    </tr>\n",
       "  </tbody>\n",
       "</table>\n",
       "<p>9137 rows × 10 columns</p>\n",
       "</div>"
      ],
      "text/plain": [
       "           state   gender             education  customer_lifetime_value  \\\n",
       "0     Washington  Unknown                Master                   182194   \n",
       "1        Arizona   Female              Bachelor                   697953   \n",
       "2         Nevada   Female              Bachelor                  1288743   \n",
       "3     California     Male              Bachelor                   764586   \n",
       "4     Washington     Male  High School or Below                   536307   \n",
       "...          ...      ...                   ...                      ...   \n",
       "9132  California     Male              Bachelor                    23405   \n",
       "9133  California   Female               College                     3096   \n",
       "9134  California     Male              Bachelor                     8163   \n",
       "9135  California     Male               College                     7524   \n",
       "9136  California     Male               College                     2611   \n",
       "\n",
       "      income  monthly_premium_auto  number_of_open_complaints     policy_type  \\\n",
       "0      50497                  1000                          0   Personal Auto   \n",
       "1      51151                    94                          0   Personal Auto   \n",
       "2      48767                   108                          0   Personal Auto   \n",
       "3      51236                   106                          0  Corporate Auto   \n",
       "4      36357                    68                          0   Personal Auto   \n",
       "...      ...                   ...                        ...             ...   \n",
       "9132   71941                    73                          0   Personal Auto   \n",
       "9133   21604                    79                          0  Corporate Auto   \n",
       "9134   50277                    85                          3  Corporate Auto   \n",
       "9135   21941                    96                          0   Personal Auto   \n",
       "9136   50270                    77                          0  Corporate Auto   \n",
       "\n",
       "      vehicle_class  total_claim_amount  \n",
       "0     Four-Door Car                   2  \n",
       "1     Four-Door Car                1131  \n",
       "2      Two-Door Car                 566  \n",
       "3               SUV                 529  \n",
       "4     Four-Door Car                  17  \n",
       "...             ...                 ...  \n",
       "9132  Four-Door Car                 198  \n",
       "9133  Four-Door Car                 379  \n",
       "9134  Four-Door Car                 790  \n",
       "9135  Four-Door Car                 691  \n",
       "9136   Two-Door Car                 369  \n",
       "\n",
       "[9137 rows x 10 columns]"
      ]
     },
     "execution_count": 44,
     "metadata": {},
     "output_type": "execute_result"
    }
   ],
   "source": [
    "df.astype({'customer_lifetime_value':int, 'income':int, 'number_of_open_complaints':int, 'total_claim_amount':int})"
   ]
  },
  {
   "cell_type": "markdown",
   "id": "658483ea",
   "metadata": {},
   "source": [
    "## Creating a pipeline for the customer data\n",
    "*Now that we have the cleaning process verifed, we can create a straightfoward pipeline for data processing* **==>**\n",
    "\n",
    "[back to top](#Contents)"
   ]
  },
  {
   "cell_type": "code",
   "execution_count": 45,
   "id": "0c9ecc0b",
   "metadata": {},
   "outputs": [],
   "source": [
    "def load_data(file1='data/file1.csv', file2='data/file2.csv', file3='data/file3.csv'):\n",
    "    '''Takes 3 filepaths as arguments, returning a concataneted dataframe with standardized column names'''\n",
    "    df1 = pd.read_csv(file1)\n",
    "    df2 = pd.read_csv(file2)\n",
    "    df3 = pd.read_csv(file3)\n",
    "    df1.rename(columns={'ST':'State', 'GENDER':'Gender', }, inplace=True)\n",
    "    df2.rename(columns={'ST':'State', 'GENDER':'Gender', }, inplace=True)\n",
    "    df = pd.concat([df1, df2, df3]).reset_index(drop=True)\n",
    "    df.columns = (df.columns\n",
    "                  .str.lower()\n",
    "                  .str.replace(' ','_')\n",
    "                  )\n",
    "    df.drop(columns='customer', inplace=True)\n",
    "    df.dropna(how='all', inplace=True)\n",
    "    df.reset_index(drop=True, inplace=True)\n",
    "    return df\n",
    "\n",
    "def data_cleaner(df):\n",
    "    '''Takes a dataframe as argument and returns it with standardized values'''\n",
    "    df['state'].replace({'Cali':'California', 'AZ':'Arizona', 'WA':'Washington'}, inplace=True)\n",
    "    df['gender'] = (df['gender']\n",
    "                    .replace({'F':'Female', 'M':'Male', 'female':'Female', 'Femal':'Female'})\n",
    "                    .fillna('Unknown')\n",
    "                    )\n",
    "    df['education'].replace('Bachelors','Bachelor', inplace=True)\n",
    "    df['customer_lifetime_value'] = pd.to_numeric(df['customer_lifetime_value']\n",
    "                                                 .apply(lambda x: x.strip('%') if isinstance(x, str) else x)\n",
    "                            )\n",
    "    df['income'].replace(0,np.nan, inplace=True)\n",
    "    df['number_of_open_complaints'] = (list(map(lambda x: x[0] if len(x) < 3 else x[1], \n",
    "                                       df['number_of_open_complaints']\n",
    "                                       .astype(str)\n",
    "                                       .str.split('/')))\n",
    "                                       )\n",
    "    return df\n",
    "    \n",
    "def imputer(df):\n",
    "    '''Returns the imputed version of the dataframe passed in'''\n",
    "    cols_to_impute = df[['customer_lifetime_value','income']].columns\n",
    "    imputer = IterativeImputer(min_value=df[cols_to_impute].min(), max_value=df[cols_to_impute].max())\n",
    "    impute_values = imputer.fit_transform(df[cols_to_impute])\n",
    "    df[cols_to_impute] = impute_values\n",
    "    return df\n",
    "    \n",
    "def dtype_transformer(df):\n",
    "    '''Returns the dataframe passed in with fixed data types'''\n",
    "    clean_df = df.astype({'state':'category', 'gender':'category', 'education':'category', \n",
    "                          'customer_lifetime_value':'int32', 'income':'int32', \n",
    "                          'monthly_premium_auto': 'int32',\n",
    "                          'number_of_open_complaints':'int32', 'policy_type':'category', \n",
    "                          'vehicle_class':'category', 'total_claim_amount':'int32'\n",
    "                          }\n",
    "                         )\n",
    "    return clean_df"
   ]
  },
  {
   "cell_type": "code",
   "execution_count": 46,
   "id": "0c861f61",
   "metadata": {},
   "outputs": [],
   "source": [
    "def pipeline_control():\n",
    "    '''A Data processing pipeline designed for the customer analysis data structure. \n",
    "    Takes the filepaths and returns cleaned and imputed data for further analysis/modeling'''\n",
    "    df = load_data()\n",
    "    data_cleaner(df)\n",
    "    imputer(df)\n",
    "    clean_df = dtype_transformer(df)\n",
    "    return clean_df"
   ]
  },
  {
   "cell_type": "markdown",
   "id": "0960b3b1",
   "metadata": {},
   "source": [
    "## Result of the pipeline created\n",
    "\n",
    "[back to top](#Contents)"
   ]
  },
  {
   "cell_type": "markdown",
   "id": "5b1d8d99",
   "metadata": {},
   "source": [
    "*Now that the data is transformed into a clean and lossless form we can begin the in-depth EDA including visualization. We begin the proccess with some summary statistics.* **==>**"
   ]
  },
  {
   "cell_type": "code",
   "execution_count": 47,
   "id": "a8320aae",
   "metadata": {},
   "outputs": [
    {
     "data": {
      "text/html": [
       "<div>\n",
       "<style scoped>\n",
       "    .dataframe tbody tr th:only-of-type {\n",
       "        vertical-align: middle;\n",
       "    }\n",
       "\n",
       "    .dataframe tbody tr th {\n",
       "        vertical-align: top;\n",
       "    }\n",
       "\n",
       "    .dataframe thead th {\n",
       "        text-align: right;\n",
       "    }\n",
       "</style>\n",
       "<table border=\"1\" class=\"dataframe\">\n",
       "  <thead>\n",
       "    <tr style=\"text-align: right;\">\n",
       "      <th></th>\n",
       "      <th>count</th>\n",
       "      <th>mean</th>\n",
       "      <th>std</th>\n",
       "      <th>min</th>\n",
       "      <th>25%</th>\n",
       "      <th>50%</th>\n",
       "      <th>75%</th>\n",
       "      <th>max</th>\n",
       "    </tr>\n",
       "  </thead>\n",
       "  <tbody>\n",
       "    <tr>\n",
       "      <th>customer_lifetime_value</th>\n",
       "      <td>9137.0</td>\n",
       "      <td>182193.523367</td>\n",
       "      <td>440881.274313</td>\n",
       "      <td>1898.0</td>\n",
       "      <td>4650.0</td>\n",
       "      <td>7720.0</td>\n",
       "      <td>26220.0</td>\n",
       "      <td>5816655.0</td>\n",
       "    </tr>\n",
       "    <tr>\n",
       "      <th>income</th>\n",
       "      <td>9137.0</td>\n",
       "      <td>50497.801357</td>\n",
       "      <td>21022.161223</td>\n",
       "      <td>10037.0</td>\n",
       "      <td>34337.0</td>\n",
       "      <td>50274.0</td>\n",
       "      <td>62447.0</td>\n",
       "      <td>99981.0</td>\n",
       "    </tr>\n",
       "    <tr>\n",
       "      <th>monthly_premium_auto</th>\n",
       "      <td>9137.0</td>\n",
       "      <td>110.391266</td>\n",
       "      <td>581.376032</td>\n",
       "      <td>61.0</td>\n",
       "      <td>68.0</td>\n",
       "      <td>83.0</td>\n",
       "      <td>109.0</td>\n",
       "      <td>35354.0</td>\n",
       "    </tr>\n",
       "    <tr>\n",
       "      <th>number_of_open_complaints</th>\n",
       "      <td>9137.0</td>\n",
       "      <td>0.383715</td>\n",
       "      <td>0.908988</td>\n",
       "      <td>0.0</td>\n",
       "      <td>0.0</td>\n",
       "      <td>0.0</td>\n",
       "      <td>0.0</td>\n",
       "      <td>5.0</td>\n",
       "    </tr>\n",
       "    <tr>\n",
       "      <th>total_claim_amount</th>\n",
       "      <td>9137.0</td>\n",
       "      <td>430.060523</td>\n",
       "      <td>289.598737</td>\n",
       "      <td>0.0</td>\n",
       "      <td>266.0</td>\n",
       "      <td>377.0</td>\n",
       "      <td>546.0</td>\n",
       "      <td>2893.0</td>\n",
       "    </tr>\n",
       "  </tbody>\n",
       "</table>\n",
       "</div>"
      ],
      "text/plain": [
       "                            count           mean            std      min  \\\n",
       "customer_lifetime_value    9137.0  182193.523367  440881.274313   1898.0   \n",
       "income                     9137.0   50497.801357   21022.161223  10037.0   \n",
       "monthly_premium_auto       9137.0     110.391266     581.376032     61.0   \n",
       "number_of_open_complaints  9137.0       0.383715       0.908988      0.0   \n",
       "total_claim_amount         9137.0     430.060523     289.598737      0.0   \n",
       "\n",
       "                               25%      50%      75%        max  \n",
       "customer_lifetime_value     4650.0   7720.0  26220.0  5816655.0  \n",
       "income                     34337.0  50274.0  62447.0    99981.0  \n",
       "monthly_premium_auto          68.0     83.0    109.0    35354.0  \n",
       "number_of_open_complaints      0.0      0.0      0.0        5.0  \n",
       "total_claim_amount           266.0    377.0    546.0     2893.0  "
      ]
     },
     "execution_count": 47,
     "metadata": {},
     "output_type": "execute_result"
    }
   ],
   "source": [
    "clean_df = pipeline_control()\n",
    "clean_df.describe().T"
   ]
  },
  {
   "cell_type": "code",
   "execution_count": 48,
   "id": "ef05f1c3",
   "metadata": {},
   "outputs": [
    {
     "name": "stdout",
     "output_type": "stream",
     "text": [
      "<class 'pandas.core.frame.DataFrame'>\n",
      "RangeIndex: 9137 entries, 0 to 9136\n",
      "Data columns (total 10 columns):\n",
      " #   Column                     Non-Null Count  Dtype   \n",
      "---  ------                     --------------  -----   \n",
      " 0   state                      9137 non-null   category\n",
      " 1   gender                     9137 non-null   category\n",
      " 2   education                  9137 non-null   category\n",
      " 3   customer_lifetime_value    9137 non-null   int32   \n",
      " 4   income                     9137 non-null   int32   \n",
      " 5   monthly_premium_auto       9137 non-null   int32   \n",
      " 6   number_of_open_complaints  9137 non-null   int32   \n",
      " 7   policy_type                9137 non-null   category\n",
      " 8   vehicle_class              9137 non-null   category\n",
      " 9   total_claim_amount         9137 non-null   int32   \n",
      "dtypes: category(5), int32(5)\n",
      "memory usage: 224.1 KB\n"
     ]
    }
   ],
   "source": [
    "clean_df.info()"
   ]
  },
  {
   "cell_type": "markdown",
   "id": "de8e5024",
   "metadata": {},
   "source": [
    "### This is the end of the data wrangling showcase, please check out my other demo projects too:\n",
    "- [Data visualization and EDA](#)\n",
    "- [Linear modeling](#)\n",
    "\n",
    "[Back to top](#Contents)\n"
   ]
  },
  {
   "cell_type": "code",
   "execution_count": null,
   "id": "ac4db635",
   "metadata": {},
   "outputs": [],
   "source": []
  }
 ],
 "metadata": {
  "kernelspec": {
   "display_name": "Python 3 (ipykernel)",
   "language": "python",
   "name": "python3"
  },
  "language_info": {
   "codemirror_mode": {
    "name": "ipython",
    "version": 3
   },
   "file_extension": ".py",
   "mimetype": "text/x-python",
   "name": "python",
   "nbconvert_exporter": "python",
   "pygments_lexer": "ipython3",
   "version": "3.8.13"
  }
 },
 "nbformat": 4,
 "nbformat_minor": 5
}
