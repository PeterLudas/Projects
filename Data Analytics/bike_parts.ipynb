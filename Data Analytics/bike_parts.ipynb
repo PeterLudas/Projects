{
 "cells": [
  {
   "cell_type": "markdown",
   "id": "431f7e4a-e7d7-4e7a-afd0-da0247be8d0d",
   "metadata": {
    "tags": []
   },
   "source": [
    "### Contents:\n",
    "- [Total Sales by Payment Method](#What-are-the-total-sales-for-each-payment-method?)\n",
    "- [What is the average unit price for each product line?](#What-is-the-average-unit-price-for-each-product-line?)\n",
    "- [Average Purchase Price by Client Type and Warehouse](#Average-Purchase-Price-by-Client-Type-and-Warehouse)\n",
    "- [Most sold product line](#Most-sold-product-line)\n",
    "- [Sales over time](#Sales-over-time)\n",
    "- [Average quantity by Order per Warehouse](#Average-quantity-by-Order-per-Warehouse)\n",
    "- [Summary](#Summary)"
   ]
  },
  {
   "cell_type": "markdown",
   "id": "73f4e9b6-ba6c-4b01-b766-e86b143f5b8d",
   "metadata": {},
   "source": [
    "##### First we import the required libraries followed by the data and do an initial EDA by visually checking the datas properties and some summary statistics"
   ]
  },
  {
   "cell_type": "code",
   "execution_count": 2,
   "id": "51f10fca-0114-407c-8ad4-b6c13a818cad",
   "metadata": {},
   "outputs": [],
   "source": [
    "import numpy as np\n",
    "import pandas as pd\n",
    "from matplotlib import pyplot as plt\n",
    "import seaborn as sns\n",
    "sns.set_style('darkgrid')"
   ]
  },
  {
   "cell_type": "code",
   "execution_count": 3,
   "id": "5cfdff09-cd42-4f1d-b4b8-98d8244519ba",
   "metadata": {},
   "outputs": [
    {
     "data": {
      "application/com.datacamp.data-table.v1+json": {
       "table": {
        "data": [
         {
          "client_type": "Retail",
          "date": "2021-06-01T00:00:00.000Z",
          "index": 0,
          "payment": "Credit card",
          "product_line": "Miscellaneous",
          "quantity": 8,
          "total": 134.83,
          "unit_price": 16.85,
          "warehouse": "Central"
         },
         {
          "client_type": "Retail",
          "date": "2021-06-01T00:00:00.000Z",
          "index": 1,
          "payment": "Cash",
          "product_line": "Breaking system",
          "quantity": 9,
          "total": 173.61,
          "unit_price": 19.29,
          "warehouse": "North"
         },
         {
          "client_type": "Retail",
          "date": "2021-06-01T00:00:00.000Z",
          "index": 2,
          "payment": "Credit card",
          "product_line": "Suspension & traction",
          "quantity": 8,
          "total": 263.45,
          "unit_price": 32.93,
          "warehouse": "North"
         },
         {
          "client_type": "Wholesale",
          "date": "2021-06-01T00:00:00.000Z",
          "index": 3,
          "payment": "Transfer",
          "product_line": "Frame & body",
          "quantity": 16,
          "total": 605.44,
          "unit_price": 37.84,
          "warehouse": "North"
         },
         {
          "client_type": "Retail",
          "date": "2021-06-01T00:00:00.000Z",
          "index": 4,
          "payment": "Credit card",
          "product_line": "Engine",
          "quantity": 2,
          "total": 120.96,
          "unit_price": 60.48,
          "warehouse": "Central"
         }
        ],
        "schema": {
         "fields": [
          {
           "name": "index",
           "type": "integer"
          },
          {
           "name": "date",
           "type": "datetime"
          },
          {
           "name": "warehouse",
           "type": "string"
          },
          {
           "name": "client_type",
           "type": "string"
          },
          {
           "name": "product_line",
           "type": "string"
          },
          {
           "name": "quantity",
           "type": "integer"
          },
          {
           "name": "unit_price",
           "type": "number"
          },
          {
           "name": "total",
           "type": "number"
          },
          {
           "name": "payment",
           "type": "string"
          }
         ],
         "pandas_version": "0.20.0",
         "primaryKey": [
          "index"
         ]
        }
       },
       "total_rows": 5,
       "truncation_type": null
      },
      "text/html": [
       "<div>\n",
       "<style scoped>\n",
       "    .dataframe tbody tr th:only-of-type {\n",
       "        vertical-align: middle;\n",
       "    }\n",
       "\n",
       "    .dataframe tbody tr th {\n",
       "        vertical-align: top;\n",
       "    }\n",
       "\n",
       "    .dataframe thead th {\n",
       "        text-align: right;\n",
       "    }\n",
       "</style>\n",
       "<table border=\"1\" class=\"dataframe\">\n",
       "  <thead>\n",
       "    <tr style=\"text-align: right;\">\n",
       "      <th></th>\n",
       "      <th>date</th>\n",
       "      <th>warehouse</th>\n",
       "      <th>client_type</th>\n",
       "      <th>product_line</th>\n",
       "      <th>quantity</th>\n",
       "      <th>unit_price</th>\n",
       "      <th>total</th>\n",
       "      <th>payment</th>\n",
       "    </tr>\n",
       "  </thead>\n",
       "  <tbody>\n",
       "    <tr>\n",
       "      <th>0</th>\n",
       "      <td>2021-06-01</td>\n",
       "      <td>Central</td>\n",
       "      <td>Retail</td>\n",
       "      <td>Miscellaneous</td>\n",
       "      <td>8</td>\n",
       "      <td>16.85</td>\n",
       "      <td>134.83</td>\n",
       "      <td>Credit card</td>\n",
       "    </tr>\n",
       "    <tr>\n",
       "      <th>1</th>\n",
       "      <td>2021-06-01</td>\n",
       "      <td>North</td>\n",
       "      <td>Retail</td>\n",
       "      <td>Breaking system</td>\n",
       "      <td>9</td>\n",
       "      <td>19.29</td>\n",
       "      <td>173.61</td>\n",
       "      <td>Cash</td>\n",
       "    </tr>\n",
       "    <tr>\n",
       "      <th>2</th>\n",
       "      <td>2021-06-01</td>\n",
       "      <td>North</td>\n",
       "      <td>Retail</td>\n",
       "      <td>Suspension &amp; traction</td>\n",
       "      <td>8</td>\n",
       "      <td>32.93</td>\n",
       "      <td>263.45</td>\n",
       "      <td>Credit card</td>\n",
       "    </tr>\n",
       "    <tr>\n",
       "      <th>3</th>\n",
       "      <td>2021-06-01</td>\n",
       "      <td>North</td>\n",
       "      <td>Wholesale</td>\n",
       "      <td>Frame &amp; body</td>\n",
       "      <td>16</td>\n",
       "      <td>37.84</td>\n",
       "      <td>605.44</td>\n",
       "      <td>Transfer</td>\n",
       "    </tr>\n",
       "    <tr>\n",
       "      <th>4</th>\n",
       "      <td>2021-06-01</td>\n",
       "      <td>Central</td>\n",
       "      <td>Retail</td>\n",
       "      <td>Engine</td>\n",
       "      <td>2</td>\n",
       "      <td>60.48</td>\n",
       "      <td>120.96</td>\n",
       "      <td>Credit card</td>\n",
       "    </tr>\n",
       "  </tbody>\n",
       "</table>\n",
       "</div>"
      ],
      "text/plain": [
       "        date warehouse client_type           product_line  quantity  \\\n",
       "0 2021-06-01   Central      Retail          Miscellaneous         8   \n",
       "1 2021-06-01     North      Retail        Breaking system         9   \n",
       "2 2021-06-01     North      Retail  Suspension & traction         8   \n",
       "3 2021-06-01     North   Wholesale           Frame & body        16   \n",
       "4 2021-06-01   Central      Retail                 Engine         2   \n",
       "\n",
       "   unit_price   total      payment  \n",
       "0       16.85  134.83  Credit card  \n",
       "1       19.29  173.61         Cash  \n",
       "2       32.93  263.45  Credit card  \n",
       "3       37.84  605.44     Transfer  \n",
       "4       60.48  120.96  Credit card  "
      ]
     },
     "execution_count": 3,
     "metadata": {},
     "output_type": "execute_result"
    }
   ],
   "source": [
    "df = pd.read_csv('data/sales_data.csv', parse_dates=['date'])\n",
    "df.head()"
   ]
  },
  {
   "cell_type": "code",
   "execution_count": 4,
   "id": "d119d7d8-1cfe-4e4d-8a51-7a41cae0e8d9",
   "metadata": {},
   "outputs": [
    {
     "name": "stdout",
     "output_type": "stream",
     "text": [
      "<class 'pandas.core.frame.DataFrame'>\n",
      "RangeIndex: 1000 entries, 0 to 999\n",
      "Data columns (total 8 columns):\n",
      " #   Column        Non-Null Count  Dtype         \n",
      "---  ------        --------------  -----         \n",
      " 0   date          1000 non-null   datetime64[ns]\n",
      " 1   warehouse     1000 non-null   object        \n",
      " 2   client_type   1000 non-null   object        \n",
      " 3   product_line  1000 non-null   object        \n",
      " 4   quantity      1000 non-null   int64         \n",
      " 5   unit_price    1000 non-null   float64       \n",
      " 6   total         1000 non-null   float64       \n",
      " 7   payment       1000 non-null   object        \n",
      "dtypes: datetime64[ns](1), float64(2), int64(1), object(4)\n",
      "memory usage: 62.6+ KB\n"
     ]
    }
   ],
   "source": [
    "df.info()"
   ]
  },
  {
   "cell_type": "markdown",
   "id": "2c36c8a3-9c12-4ae9-ad4c-549798cd6aab",
   "metadata": {},
   "source": [
    "##### The data appears to be complete with no missing values, however we can inspect the values further by checking for typos and/or zero values within the numeric columns"
   ]
  },
  {
   "cell_type": "code",
   "execution_count": 5,
   "id": "661a51ff-82a8-4351-999f-1451e3068555",
   "metadata": {},
   "outputs": [
    {
     "data": {
      "text/plain": [
       "date            0\n",
       "warehouse       0\n",
       "client_type     0\n",
       "product_line    0\n",
       "quantity        0\n",
       "unit_price      0\n",
       "total           0\n",
       "payment         0\n",
       "dtype: int64"
      ]
     },
     "execution_count": 5,
     "metadata": {},
     "output_type": "execute_result"
    }
   ],
   "source": [
    "df.isnull().sum()"
   ]
  },
  {
   "cell_type": "code",
   "execution_count": 6,
   "id": "37f0b30d-e3c6-4051-8e8f-7240da2a3f59",
   "metadata": {},
   "outputs": [
    {
     "name": "stdout",
     "output_type": "stream",
     "text": [
      " WAREHOUSE unique values are: ['Central' 'North' 'West']\n",
      "\n",
      " CLIENT_TYPE unique values are: ['Retail' 'Wholesale']\n",
      "\n",
      " PRODUCT_LINE unique values are: ['Miscellaneous' 'Breaking system' 'Suspension & traction' 'Frame & body'\n",
      " 'Engine' 'Electrical system']\n",
      "\n",
      " PAYMENT unique values are: ['Credit card' 'Cash' 'Transfer']\n",
      "\n"
     ]
    }
   ],
   "source": [
    "cat_cols = df.select_dtypes(exclude=['number', 'datetime'])\n",
    "for c in cat_cols.columns:\n",
    "    print(f' {c.upper()} unique values are: {df[c].unique()}', end='\\n\\n')"
   ]
  },
  {
   "cell_type": "code",
   "execution_count": 7,
   "id": "0c202233-9224-4d67-a02d-c4619376637a",
   "metadata": {},
   "outputs": [
    {
     "data": {
      "application/com.datacamp.data-table.v1+json": {
       "table": {
        "data": [
         {
          "index": "count",
          "quantity": 1000,
          "total": 1000,
          "unit_price": 1000
         },
         {
          "index": "mean",
          "quantity": 9.395,
          "total": 289.113,
          "unit_price": 30.32204
         },
         {
          "index": "std",
          "quantity": 9.6592067622,
          "total": 345.2275964464,
          "unit_price": 12.2564880344
         },
         {
          "index": "min",
          "quantity": 1,
          "total": 10.35,
          "unit_price": 10.03
         },
         {
          "index": "25%",
          "quantity": 4,
          "total": 93.6875,
          "unit_price": 21.085
         },
         {
          "index": "50%",
          "quantity": 6.5,
          "total": 178.36,
          "unit_price": 28.57
         },
         {
          "index": "75%",
          "quantity": 10,
          "total": 321.69,
          "unit_price": 37.9175
         },
         {
          "index": "max",
          "quantity": 40,
          "total": 2546.33,
          "unit_price": 66.62
         }
        ],
        "schema": {
         "fields": [
          {
           "name": "index",
           "type": "string"
          },
          {
           "name": "quantity",
           "type": "number"
          },
          {
           "name": "unit_price",
           "type": "number"
          },
          {
           "name": "total",
           "type": "number"
          }
         ],
         "pandas_version": "0.20.0",
         "primaryKey": [
          "index"
         ]
        }
       },
       "total_rows": 8,
       "truncation_type": null
      },
      "text/html": [
       "<div>\n",
       "<style scoped>\n",
       "    .dataframe tbody tr th:only-of-type {\n",
       "        vertical-align: middle;\n",
       "    }\n",
       "\n",
       "    .dataframe tbody tr th {\n",
       "        vertical-align: top;\n",
       "    }\n",
       "\n",
       "    .dataframe thead th {\n",
       "        text-align: right;\n",
       "    }\n",
       "</style>\n",
       "<table border=\"1\" class=\"dataframe\">\n",
       "  <thead>\n",
       "    <tr style=\"text-align: right;\">\n",
       "      <th></th>\n",
       "      <th>quantity</th>\n",
       "      <th>unit_price</th>\n",
       "      <th>total</th>\n",
       "    </tr>\n",
       "  </thead>\n",
       "  <tbody>\n",
       "    <tr>\n",
       "      <th>count</th>\n",
       "      <td>1000.000000</td>\n",
       "      <td>1000.000000</td>\n",
       "      <td>1000.000000</td>\n",
       "    </tr>\n",
       "    <tr>\n",
       "      <th>mean</th>\n",
       "      <td>9.395000</td>\n",
       "      <td>30.322040</td>\n",
       "      <td>289.113000</td>\n",
       "    </tr>\n",
       "    <tr>\n",
       "      <th>std</th>\n",
       "      <td>9.659207</td>\n",
       "      <td>12.256488</td>\n",
       "      <td>345.227596</td>\n",
       "    </tr>\n",
       "    <tr>\n",
       "      <th>min</th>\n",
       "      <td>1.000000</td>\n",
       "      <td>10.030000</td>\n",
       "      <td>10.350000</td>\n",
       "    </tr>\n",
       "    <tr>\n",
       "      <th>25%</th>\n",
       "      <td>4.000000</td>\n",
       "      <td>21.085000</td>\n",
       "      <td>93.687500</td>\n",
       "    </tr>\n",
       "    <tr>\n",
       "      <th>50%</th>\n",
       "      <td>6.500000</td>\n",
       "      <td>28.570000</td>\n",
       "      <td>178.360000</td>\n",
       "    </tr>\n",
       "    <tr>\n",
       "      <th>75%</th>\n",
       "      <td>10.000000</td>\n",
       "      <td>37.917500</td>\n",
       "      <td>321.690000</td>\n",
       "    </tr>\n",
       "    <tr>\n",
       "      <th>max</th>\n",
       "      <td>40.000000</td>\n",
       "      <td>66.620000</td>\n",
       "      <td>2546.330000</td>\n",
       "    </tr>\n",
       "  </tbody>\n",
       "</table>\n",
       "</div>"
      ],
      "text/plain": [
       "          quantity   unit_price        total\n",
       "count  1000.000000  1000.000000  1000.000000\n",
       "mean      9.395000    30.322040   289.113000\n",
       "std       9.659207    12.256488   345.227596\n",
       "min       1.000000    10.030000    10.350000\n",
       "25%       4.000000    21.085000    93.687500\n",
       "50%       6.500000    28.570000   178.360000\n",
       "75%      10.000000    37.917500   321.690000\n",
       "max      40.000000    66.620000  2546.330000"
      ]
     },
     "execution_count": 7,
     "metadata": {},
     "output_type": "execute_result"
    }
   ],
   "source": [
    "df.describe()"
   ]
  },
  {
   "cell_type": "markdown",
   "id": "12aaf476-5b9f-4641-8d7e-e21446ac0940",
   "metadata": {},
   "source": [
    "##### No zero numeric values (which could be considered missing in this scenario) and no typos in categorical data, thus we can proceed with our analysis answering the first business question:\n",
    "[Click here to return to Contents](#Contents:)"
   ]
  },
  {
   "cell_type": "markdown",
   "id": "e2ddbbb5-d669-42b9-aece-ae3406721ca4",
   "metadata": {},
   "source": [
    "### What are the total sales for each payment method?"
   ]
  },
  {
   "cell_type": "code",
   "execution_count": 58,
   "id": "28a8483a-505a-46fe-9c7f-f9bf0f7068b4",
   "metadata": {},
   "outputs": [
    {
     "data": {
      "text/plain": [
       "Text(0, 0.5, 'Total sales')"
      ]
     },
     "execution_count": 58,
     "metadata": {},
     "output_type": "execute_result"
    },
    {
     "data": {
      "image/png": "[encoded data removed]",
      "text/plain": [
       "<Figure size 432x288 with 1 Axes>"
      ]
     },
     "metadata": {},
     "output_type": "display_data"
    }
   ],
   "source": [
    "payment_totals = (df.groupby('payment')[['total']]\n",
    "                    .sum()\n",
    "                    .sort_values('total', ascending=False)\n",
    "                    .reset_index()\n",
    "                 )\n",
    "\n",
    "sns.barplot(data=payment_totals, y='payment', x='total', orient='h')\n",
    "plt.title('Total Revenue by Payment Type')\n",
    "plt.ylabel('Total sales')"
   ]
  },
  {
   "cell_type": "markdown",
   "id": "3589e8b1-fce4-458f-b2f1-c1d72fda5a12",
   "metadata": {},
   "source": [
    "##### Looks like **Transfer** is the overall preferred payment method and our intuition suggests this is also the most frequent mean of paying for an order but the barplot above is only telling us **how much total income** is generated by the payment types. This could be due to either a *higher overall count of transfers* or *fewer transfers of bigger sums per transfer*. We can confirm this by another quick groupby and a countplot."
   ]
  },
  {
   "cell_type": "code",
   "execution_count": 9,
   "id": "bc054227-f52d-4fb2-a730-634f2d515670",
   "metadata": {},
   "outputs": [
    {
     "data": {
      "application/com.datacamp.data-table.v1+json": {
       "table": {
        "data": [
         {
          "payment": "Cash",
          "total": 116
         },
         {
          "payment": "Credit card",
          "total": 659
         },
         {
          "payment": "Transfer",
          "total": 225
         }
        ],
        "schema": {
         "fields": [
          {
           "name": "payment",
           "type": "string"
          },
          {
           "name": "total",
           "type": "integer"
          }
         ],
         "pandas_version": "0.20.0",
         "primaryKey": [
          "payment"
         ]
        }
       },
       "total_rows": 3,
       "truncation_type": null
      },
      "text/html": [
       "<div>\n",
       "<style scoped>\n",
       "    .dataframe tbody tr th:only-of-type {\n",
       "        vertical-align: middle;\n",
       "    }\n",
       "\n",
       "    .dataframe tbody tr th {\n",
       "        vertical-align: top;\n",
       "    }\n",
       "\n",
       "    .dataframe thead th {\n",
       "        text-align: right;\n",
       "    }\n",
       "</style>\n",
       "<table border=\"1\" class=\"dataframe\">\n",
       "  <thead>\n",
       "    <tr style=\"text-align: right;\">\n",
       "      <th></th>\n",
       "      <th>total</th>\n",
       "    </tr>\n",
       "    <tr>\n",
       "      <th>payment</th>\n",
       "      <th></th>\n",
       "    </tr>\n",
       "  </thead>\n",
       "  <tbody>\n",
       "    <tr>\n",
       "      <th>Cash</th>\n",
       "      <td>116</td>\n",
       "    </tr>\n",
       "    <tr>\n",
       "      <th>Credit card</th>\n",
       "      <td>659</td>\n",
       "    </tr>\n",
       "    <tr>\n",
       "      <th>Transfer</th>\n",
       "      <td>225</td>\n",
       "    </tr>\n",
       "  </tbody>\n",
       "</table>\n",
       "</div>"
      ],
      "text/plain": [
       "             total\n",
       "payment           \n",
       "Cash           116\n",
       "Credit card    659\n",
       "Transfer       225"
      ]
     },
     "execution_count": 9,
     "metadata": {},
     "output_type": "execute_result"
    }
   ],
   "source": [
    "totals_by_warehouse = df.groupby('payment')[['total']].count()\n",
    "totals_by_warehouse"
   ]
  },
  {
   "cell_type": "code",
   "execution_count": 10,
   "id": "84f309ac-db5d-4176-867f-58b3ec5012d1",
   "metadata": {},
   "outputs": [
    {
     "data": {
      "image/png": "[encoded data removed]",
      "text/plain": [
       "<Figure size 432x288 with 1 Axes>"
      ]
     },
     "metadata": {},
     "output_type": "display_data"
    }
   ],
   "source": [
    "_ = sns.countplot(data=df, x='payment', hue='warehouse')\n",
    "_ = plt.xlabel('Payment types')\n",
    "_ = plt.ylabel('Number of payments')\n",
    "_ = plt.title('Total orders per payment methods and warehouse')"
   ]
  },
  {
   "cell_type": "markdown",
   "id": "fe9b3051-c0d3-48ff-bb6c-5f3244d39ec9",
   "metadata": {},
   "source": [
    "##### Our **intuition failed us** as there are approx. 3 times more credit card sales however for smaller amounts. The countplot confirms the same proportion of payments over every warehouse of which the *Central Warehouse* is completing the most orders by every payment method. \n",
    "[Click here to return to Contents](#Contents:)"
   ]
  },
  {
   "cell_type": "markdown",
   "id": "1793b7fa-1653-419e-afcc-29cc00af32ef",
   "metadata": {},
   "source": [
    "### What is the average unit price for each product line?"
   ]
  },
  {
   "cell_type": "code",
   "execution_count": 11,
   "id": "fcc17a52-2050-405d-82c1-637cbb96e5cd",
   "metadata": {},
   "outputs": [
    {
     "name": "stdout",
     "output_type": "stream",
     "text": [
      "            product_line  unit_price\n",
      "0        Breaking system   17.740522\n",
      "1          Miscellaneous   22.810738\n",
      "2      Electrical system   25.585130\n",
      "3  Suspension & traction   33.969868\n",
      "4           Frame & body   42.832229\n",
      "5                 Engine   60.091803\n",
      "6        Overall average   30.322040\n"
     ]
    },
    {
     "data": {
      "image/png": "[encoded data removed]",
      "text/plain": [
       "<Figure size 432x288 with 1 Axes>"
      ]
     },
     "metadata": {},
     "output_type": "display_data"
    }
   ],
   "source": [
    "avg_unitprice = (df.groupby('product_line')[['unit_price']]\n",
    "                   .mean()\n",
    "                   .sort_values('unit_price')\n",
    "                   .reset_index()\n",
    "                   .append({'product_line': 'Overall average', \n",
    "                            'unit_price': df['unit_price'].mean()\n",
    "                           }, ignore_index=True\n",
    "                          )\n",
    "                 )\n",
    "print(avg_unitprice)\n",
    "\n",
    "_ = sns.barplot(data=avg_unitprice, y='unit_price', x='product_line')\n",
    "_ = plt.xticks(rotation=45)\n",
    "_ = plt.ylabel('Average Unit Price')\n",
    "_ = plt.title('Average Unit Price per Product Category')"
   ]
  },
  {
   "cell_type": "code",
   "execution_count": 12,
   "id": "5eca82ff-feb7-4e1b-bd97-394a578516c8",
   "metadata": {},
   "outputs": [
    {
     "data": {
      "image/png": "[encoded data removed]",
      "text/plain": [
       "<Figure size 432x288 with 1 Axes>"
      ]
     },
     "metadata": {},
     "output_type": "display_data"
    }
   ],
   "source": [
    "_ = sns.distplot(df['unit_price'])\n",
    "_ = plt.xlabel('Unit prices')\n",
    "_ = plt.title('Distribution of unit prices')"
   ]
  },
  {
   "cell_type": "markdown",
   "id": "3708ada3-8d41-4656-ad10-643acef72ed6",
   "metadata": {},
   "source": [
    "##### Overall average **unit price** is **30.32** and it varies per **product line** *Engine* having the highest average. The distribution of **unit prices** is slightly right skewed thus showing there are significantly more items of lower price available than expensive ones.\n",
    "[Click here to return to Contents](#Contents:)"
   ]
  },
  {
   "cell_type": "markdown",
   "id": "865e567c-82f5-4929-b3d5-bf7466d39494",
   "metadata": {},
   "source": [
    "### Average Purchase Price by Client Type and Warehouse"
   ]
  },
  {
   "cell_type": "code",
   "execution_count": 13,
   "id": "aaa8836f-4b40-4bef-85ab-491f4d6bb0f3",
   "metadata": {},
   "outputs": [
    {
     "data": {
      "image/png": "[encoded data removed]",
      "text/plain": [
       "<Figure size 432x288 with 1 Axes>"
      ]
     },
     "metadata": {},
     "output_type": "display_data"
    }
   ],
   "source": [
    "avg_purchase = (df.groupby(['client_type', 'warehouse'])[['total']]\n",
    "                  .mean()\n",
    "                  .sort_values('total')\n",
    "                  .reset_index()\n",
    "               )\n",
    "\n",
    "_ = sns.barplot(data=avg_purchase, x='warehouse', y='total', hue='client_type')\n",
    "_ = plt.title('Average Purchase value by Client Type per Warehouse')\n",
    "_ = plt.ylabel('Average Purchase value')"
   ]
  },
  {
   "cell_type": "markdown",
   "id": "6e0b598a-d1b9-44c2-994e-5e6a6c52f906",
   "metadata": {},
   "source": [
    "[Click here to return to Contents](#Contents:)"
   ]
  },
  {
   "cell_type": "markdown",
   "id": "2f832ba6-905b-44ab-ae91-cb0249a24299",
   "metadata": {},
   "source": [
    "### Most sold product line"
   ]
  },
  {
   "cell_type": "code",
   "execution_count": 14,
   "id": "2ca5be1e-d271-4b86-b207-cb211da14c76",
   "metadata": {},
   "outputs": [
    {
     "data": {
      "application/com.datacamp.data-table.v1+json": {
       "table": {
        "data": [
         {
          "index": 0,
          "product_line": "Suspension & traction",
          "total": 73014.21,
          "unit_price": 33.9698684211
         },
         {
          "index": 1,
          "product_line": "Frame & body",
          "total": 69024.73,
          "unit_price": 42.8322289157
         },
         {
          "index": 2,
          "product_line": "Electrical system",
          "total": 43612.71,
          "unit_price": 25.5851295337
         },
         {
          "index": 3,
          "product_line": "Breaking system",
          "total": 38350.15,
          "unit_price": 17.7405217391
         },
         {
          "index": 4,
          "product_line": "Engine",
          "total": 37945.38,
          "unit_price": 60.0918032787
         },
         {
          "index": 5,
          "product_line": "Miscellaneous",
          "total": 27165.82,
          "unit_price": 22.8107377049
         }
        ],
        "schema": {
         "fields": [
          {
           "name": "index",
           "type": "integer"
          },
          {
           "name": "product_line",
           "type": "string"
          },
          {
           "name": "total",
           "type": "number"
          },
          {
           "name": "unit_price",
           "type": "number"
          }
         ],
         "pandas_version": "0.20.0",
         "primaryKey": [
          "index"
         ]
        }
       },
       "total_rows": 6,
       "truncation_type": null
      },
      "text/html": [
       "<div>\n",
       "<style scoped>\n",
       "    .dataframe tbody tr th:only-of-type {\n",
       "        vertical-align: middle;\n",
       "    }\n",
       "\n",
       "    .dataframe tbody tr th {\n",
       "        vertical-align: top;\n",
       "    }\n",
       "\n",
       "    .dataframe thead th {\n",
       "        text-align: right;\n",
       "    }\n",
       "</style>\n",
       "<table border=\"1\" class=\"dataframe\">\n",
       "  <thead>\n",
       "    <tr style=\"text-align: right;\">\n",
       "      <th></th>\n",
       "      <th>product_line</th>\n",
       "      <th>total</th>\n",
       "      <th>unit_price</th>\n",
       "    </tr>\n",
       "  </thead>\n",
       "  <tbody>\n",
       "    <tr>\n",
       "      <th>0</th>\n",
       "      <td>Suspension &amp; traction</td>\n",
       "      <td>73014.21</td>\n",
       "      <td>33.969868</td>\n",
       "    </tr>\n",
       "    <tr>\n",
       "      <th>1</th>\n",
       "      <td>Frame &amp; body</td>\n",
       "      <td>69024.73</td>\n",
       "      <td>42.832229</td>\n",
       "    </tr>\n",
       "    <tr>\n",
       "      <th>2</th>\n",
       "      <td>Electrical system</td>\n",
       "      <td>43612.71</td>\n",
       "      <td>25.585130</td>\n",
       "    </tr>\n",
       "    <tr>\n",
       "      <th>3</th>\n",
       "      <td>Breaking system</td>\n",
       "      <td>38350.15</td>\n",
       "      <td>17.740522</td>\n",
       "    </tr>\n",
       "    <tr>\n",
       "      <th>4</th>\n",
       "      <td>Engine</td>\n",
       "      <td>37945.38</td>\n",
       "      <td>60.091803</td>\n",
       "    </tr>\n",
       "    <tr>\n",
       "      <th>5</th>\n",
       "      <td>Miscellaneous</td>\n",
       "      <td>27165.82</td>\n",
       "      <td>22.810738</td>\n",
       "    </tr>\n",
       "  </tbody>\n",
       "</table>\n",
       "</div>"
      ],
      "text/plain": [
       "            product_line     total  unit_price\n",
       "0  Suspension & traction  73014.21   33.969868\n",
       "1           Frame & body  69024.73   42.832229\n",
       "2      Electrical system  43612.71   25.585130\n",
       "3        Breaking system  38350.15   17.740522\n",
       "4                 Engine  37945.38   60.091803\n",
       "5          Miscellaneous  27165.82   22.810738"
      ]
     },
     "execution_count": 14,
     "metadata": {},
     "output_type": "execute_result"
    }
   ],
   "source": [
    "most_sold = (df.groupby('product_line')[['total', 'unit_price']]\n",
    "               .agg({'total': 'sum', 'unit_price': 'mean'})\n",
    "               .sort_values('total', ascending=False)\n",
    "               .reset_index()\n",
    "            )\n",
    "most_sold"
   ]
  },
  {
   "cell_type": "code",
   "execution_count": 22,
   "id": "4a9eacf0-68d0-4029-8087-8e3ef0fcae8e",
   "metadata": {},
   "outputs": [
    {
     "data": {
      "image/png": "[encoded data removed]",
      "text/plain": [
       "<Figure size 432x288 with 1 Axes>"
      ]
     },
     "metadata": {},
     "output_type": "display_data"
    }
   ],
   "source": [
    "_ = sns.scatterplot(data=most_sold, x='product_line', y='total', size=most_sold['unit_price'].round(2), sizes=(100, 400))\n",
    "_.axhline(most_sold['total'].mean(), alpha=0.5, label='Average Overall Sales', c='red')\n",
    "_.annotate('Average Total Sales', xy=('Frame & body', 48000), xytext=('Electrical system', 55000), arrowprops={'facecolor':'black'})\n",
    "_ = plt.xticks(rotation=45)\n",
    "_ = plt.title('Total sales by Product Line and Average Unit Price')\n",
    "_ = plt.xlabel(None)\n",
    "_ = plt.ylabel('Total Sales')"
   ]
  },
  {
   "cell_type": "markdown",
   "id": "c90b08a8-6af7-407c-aace-307e7e363ddd",
   "metadata": {},
   "source": [
    "##### Altough the *Engine* line has the highest average unit price the most sold category is *Suspension & traction* with *Frame & Body* close second and both of them also have a very close average price per item to the overall unit price average of **30.32**.  \n",
    "[Click here to return to Contents](#Contents:)"
   ]
  },
  {
   "cell_type": "markdown",
   "id": "470b68f2-34ea-42a8-875b-1fde6080447a",
   "metadata": {},
   "source": [
    "### Sales over time"
   ]
  },
  {
   "cell_type": "code",
   "execution_count": 16,
   "id": "fcbab042-6417-4749-9a05-e476d6af99c7",
   "metadata": {},
   "outputs": [
    {
     "data": {
      "application/com.datacamp.data-table.v1+json": {
       "table": {
        "data": [
         {
          "client_type": "Retail",
          "date": "2021-06-01T00:00:00.000Z",
          "index": 0,
          "month": 6,
          "month_name": "June",
          "payment": "Credit card",
          "product_line": "Miscellaneous",
          "quantity": 8,
          "total": 134.83,
          "unit_price": 16.85,
          "warehouse": "Central"
         },
         {
          "client_type": "Retail",
          "date": "2021-06-01T00:00:00.000Z",
          "index": 1,
          "month": 6,
          "month_name": "June",
          "payment": "Cash",
          "product_line": "Breaking system",
          "quantity": 9,
          "total": 173.61,
          "unit_price": 19.29,
          "warehouse": "North"
         },
         {
          "client_type": "Retail",
          "date": "2021-06-01T00:00:00.000Z",
          "index": 2,
          "month": 6,
          "month_name": "June",
          "payment": "Credit card",
          "product_line": "Suspension & traction",
          "quantity": 8,
          "total": 263.45,
          "unit_price": 32.93,
          "warehouse": "North"
         },
         {
          "client_type": "Wholesale",
          "date": "2021-06-01T00:00:00.000Z",
          "index": 3,
          "month": 6,
          "month_name": "June",
          "payment": "Transfer",
          "product_line": "Frame & body",
          "quantity": 16,
          "total": 605.44,
          "unit_price": 37.84,
          "warehouse": "North"
         },
         {
          "client_type": "Retail",
          "date": "2021-06-01T00:00:00.000Z",
          "index": 4,
          "month": 6,
          "month_name": "June",
          "payment": "Credit card",
          "product_line": "Engine",
          "quantity": 2,
          "total": 120.96,
          "unit_price": 60.48,
          "warehouse": "Central"
         }
        ],
        "schema": {
         "fields": [
          {
           "name": "index",
           "type": "integer"
          },
          {
           "name": "date",
           "type": "datetime"
          },
          {
           "name": "warehouse",
           "type": "string"
          },
          {
           "name": "client_type",
           "type": "string"
          },
          {
           "name": "product_line",
           "type": "string"
          },
          {
           "name": "quantity",
           "type": "integer"
          },
          {
           "name": "unit_price",
           "type": "number"
          },
          {
           "name": "total",
           "type": "number"
          },
          {
           "name": "payment",
           "type": "string"
          },
          {
           "name": "month",
           "type": "integer"
          },
          {
           "name": "month_name",
           "type": "string"
          }
         ],
         "pandas_version": "0.20.0",
         "primaryKey": [
          "index"
         ]
        }
       },
       "total_rows": 5,
       "truncation_type": null
      },
      "text/html": [
       "<div>\n",
       "<style scoped>\n",
       "    .dataframe tbody tr th:only-of-type {\n",
       "        vertical-align: middle;\n",
       "    }\n",
       "\n",
       "    .dataframe tbody tr th {\n",
       "        vertical-align: top;\n",
       "    }\n",
       "\n",
       "    .dataframe thead th {\n",
       "        text-align: right;\n",
       "    }\n",
       "</style>\n",
       "<table border=\"1\" class=\"dataframe\">\n",
       "  <thead>\n",
       "    <tr style=\"text-align: right;\">\n",
       "      <th></th>\n",
       "      <th>date</th>\n",
       "      <th>warehouse</th>\n",
       "      <th>client_type</th>\n",
       "      <th>product_line</th>\n",
       "      <th>quantity</th>\n",
       "      <th>unit_price</th>\n",
       "      <th>total</th>\n",
       "      <th>payment</th>\n",
       "      <th>month</th>\n",
       "      <th>month_name</th>\n",
       "    </tr>\n",
       "  </thead>\n",
       "  <tbody>\n",
       "    <tr>\n",
       "      <th>0</th>\n",
       "      <td>2021-06-01</td>\n",
       "      <td>Central</td>\n",
       "      <td>Retail</td>\n",
       "      <td>Miscellaneous</td>\n",
       "      <td>8</td>\n",
       "      <td>16.85</td>\n",
       "      <td>134.83</td>\n",
       "      <td>Credit card</td>\n",
       "      <td>6</td>\n",
       "      <td>June</td>\n",
       "    </tr>\n",
       "    <tr>\n",
       "      <th>1</th>\n",
       "      <td>2021-06-01</td>\n",
       "      <td>North</td>\n",
       "      <td>Retail</td>\n",
       "      <td>Breaking system</td>\n",
       "      <td>9</td>\n",
       "      <td>19.29</td>\n",
       "      <td>173.61</td>\n",
       "      <td>Cash</td>\n",
       "      <td>6</td>\n",
       "      <td>June</td>\n",
       "    </tr>\n",
       "    <tr>\n",
       "      <th>2</th>\n",
       "      <td>2021-06-01</td>\n",
       "      <td>North</td>\n",
       "      <td>Retail</td>\n",
       "      <td>Suspension &amp; traction</td>\n",
       "      <td>8</td>\n",
       "      <td>32.93</td>\n",
       "      <td>263.45</td>\n",
       "      <td>Credit card</td>\n",
       "      <td>6</td>\n",
       "      <td>June</td>\n",
       "    </tr>\n",
       "    <tr>\n",
       "      <th>3</th>\n",
       "      <td>2021-06-01</td>\n",
       "      <td>North</td>\n",
       "      <td>Wholesale</td>\n",
       "      <td>Frame &amp; body</td>\n",
       "      <td>16</td>\n",
       "      <td>37.84</td>\n",
       "      <td>605.44</td>\n",
       "      <td>Transfer</td>\n",
       "      <td>6</td>\n",
       "      <td>June</td>\n",
       "    </tr>\n",
       "    <tr>\n",
       "      <th>4</th>\n",
       "      <td>2021-06-01</td>\n",
       "      <td>Central</td>\n",
       "      <td>Retail</td>\n",
       "      <td>Engine</td>\n",
       "      <td>2</td>\n",
       "      <td>60.48</td>\n",
       "      <td>120.96</td>\n",
       "      <td>Credit card</td>\n",
       "      <td>6</td>\n",
       "      <td>June</td>\n",
       "    </tr>\n",
       "  </tbody>\n",
       "</table>\n",
       "</div>"
      ],
      "text/plain": [
       "        date warehouse client_type           product_line  quantity  \\\n",
       "0 2021-06-01   Central      Retail          Miscellaneous         8   \n",
       "1 2021-06-01     North      Retail        Breaking system         9   \n",
       "2 2021-06-01     North      Retail  Suspension & traction         8   \n",
       "3 2021-06-01     North   Wholesale           Frame & body        16   \n",
       "4 2021-06-01   Central      Retail                 Engine         2   \n",
       "\n",
       "   unit_price   total      payment  month month_name  \n",
       "0       16.85  134.83  Credit card      6       June  \n",
       "1       19.29  173.61         Cash      6       June  \n",
       "2       32.93  263.45  Credit card      6       June  \n",
       "3       37.84  605.44     Transfer      6       June  \n",
       "4       60.48  120.96  Credit card      6       June  "
      ]
     },
     "execution_count": 16,
     "metadata": {},
     "output_type": "execute_result"
    }
   ],
   "source": [
    "# extracting the month and months name from the datetime column for timeseries analysis below\n",
    "df['month'] = df['date'].dt.month\n",
    "df['month_name'] = df['date'].dt.month_name()\n",
    "df.head()"
   ]
  },
  {
   "cell_type": "code",
   "execution_count": 18,
   "id": "0663f14c-3fb9-475b-b792-5c1e3ae38a62",
   "metadata": {},
   "outputs": [
    {
     "data": {
      "image/png": "[encoded data removed]",
      "text/plain": [
       "<Figure size 432x288 with 1 Axes>"
      ]
     },
     "metadata": {},
     "output_type": "display_data"
    },
    {
     "data": {
      "text/plain": [
       "<Figure size 1080x432 with 0 Axes>"
      ]
     },
     "metadata": {},
     "output_type": "display_data"
    }
   ],
   "source": [
    "monthly_sales_per_warehouse = (df.groupby(['month','month_name', 'warehouse'])[['total']]\n",
    "                                 .sum()\n",
    "                                 .reset_index(level=['month_name', 'warehouse'])\n",
    "                              )\n",
    "\n",
    "_ = sns.lineplot(data=monthly_sales_per_warehouse, x='month_name', y='total', hue='warehouse')\n",
    "_.axhline(monthly_sales_per_warehouse['total'].mean(), alpha=0.3, linestyle='--', c='red')\n",
    "_.annotate('Quarter average', xy=('July', 32000), xytext=('July', 40000), arrowprops={'facecolor':'black'})\n",
    "_ = plt.figure(figsize=(15,6))"
   ]
  },
  {
   "cell_type": "markdown",
   "id": "5a68a345-79c9-456b-9d99-35d36ab172e3",
   "metadata": {},
   "source": [
    "##### Data shows that **Central Warehouse** grothw has slowed down over the course of summer, however still being the **top seller** and closed the quarter with higher sales since start. Despite fluctuating around the overall average, **North Warehouse** has also **increased its sales** and has shown an increasing trend. **West Warehouse** not only producing the **lowest sales** but also showing a recession in the same period. "
   ]
  },
  {
   "cell_type": "code",
   "execution_count": 86,
   "id": "0646d6a1-221a-483a-a031-aed5d1d3a55b",
   "metadata": {},
   "outputs": [
    {
     "data": {
      "application/com.datacamp.data-table.v1+json": {
       "table": {
        "data": [
         {
          "client_type": "Retail",
          "count": 268,
          "mean": 172.4632462687,
          "month": 6,
          "month_name": "June",
          "sum": 46220.15
         },
         {
          "client_type": "Wholesale",
          "count": 70,
          "mean": 701.4268571429,
          "month": 6,
          "month_name": "June",
          "sum": 49099.88
         },
         {
          "client_type": "Retail",
          "count": 269,
          "mean": 165.2855018587,
          "month": 7,
          "month_name": "July",
          "sum": 44461.8
         },
         {
          "client_type": "Wholesale",
          "count": 76,
          "mean": 645.8698684211,
          "month": 7,
          "month_name": "July",
          "sum": 49086.11
         },
         {
          "client_type": "Retail",
          "count": 238,
          "mean": 162.9778151261,
          "month": 8,
          "month_name": "August",
          "sum": 38788.72
         },
         {
          "client_type": "Wholesale",
          "count": 79,
          "mean": 777.9283544304,
          "month": 8,
          "month_name": "August",
          "sum": 61456.34
         }
        ],
        "schema": {
         "fields": [
          {
           "name": "month",
           "type": "integer"
          },
          {
           "name": "month_name",
           "type": "string"
          },
          {
           "name": "client_type",
           "type": "string"
          },
          {
           "name": "sum",
           "type": "number"
          },
          {
           "name": "mean",
           "type": "number"
          },
          {
           "name": "count",
           "type": "integer"
          }
         ],
         "pandas_version": "0.20.0"
        }
       },
       "total_rows": 6,
       "truncation_type": null
      },
      "text/html": [
       "<div>\n",
       "<style scoped>\n",
       "    .dataframe tbody tr th:only-of-type {\n",
       "        vertical-align: middle;\n",
       "    }\n",
       "\n",
       "    .dataframe tbody tr th {\n",
       "        vertical-align: top;\n",
       "    }\n",
       "\n",
       "    .dataframe thead th {\n",
       "        text-align: right;\n",
       "    }\n",
       "</style>\n",
       "<table border=\"1\" class=\"dataframe\">\n",
       "  <thead>\n",
       "    <tr style=\"text-align: right;\">\n",
       "      <th></th>\n",
       "      <th>month_name</th>\n",
       "      <th>client_type</th>\n",
       "      <th>sum</th>\n",
       "      <th>mean</th>\n",
       "      <th>count</th>\n",
       "    </tr>\n",
       "    <tr>\n",
       "      <th>month</th>\n",
       "      <th></th>\n",
       "      <th></th>\n",
       "      <th></th>\n",
       "      <th></th>\n",
       "      <th></th>\n",
       "    </tr>\n",
       "  </thead>\n",
       "  <tbody>\n",
       "    <tr>\n",
       "      <th>6</th>\n",
       "      <td>June</td>\n",
       "      <td>Retail</td>\n",
       "      <td>46220.15</td>\n",
       "      <td>172.463246</td>\n",
       "      <td>268</td>\n",
       "    </tr>\n",
       "    <tr>\n",
       "      <th>6</th>\n",
       "      <td>June</td>\n",
       "      <td>Wholesale</td>\n",
       "      <td>49099.88</td>\n",
       "      <td>701.426857</td>\n",
       "      <td>70</td>\n",
       "    </tr>\n",
       "    <tr>\n",
       "      <th>7</th>\n",
       "      <td>July</td>\n",
       "      <td>Retail</td>\n",
       "      <td>44461.80</td>\n",
       "      <td>165.285502</td>\n",
       "      <td>269</td>\n",
       "    </tr>\n",
       "    <tr>\n",
       "      <th>7</th>\n",
       "      <td>July</td>\n",
       "      <td>Wholesale</td>\n",
       "      <td>49086.11</td>\n",
       "      <td>645.869868</td>\n",
       "      <td>76</td>\n",
       "    </tr>\n",
       "    <tr>\n",
       "      <th>8</th>\n",
       "      <td>August</td>\n",
       "      <td>Retail</td>\n",
       "      <td>38788.72</td>\n",
       "      <td>162.977815</td>\n",
       "      <td>238</td>\n",
       "    </tr>\n",
       "    <tr>\n",
       "      <th>8</th>\n",
       "      <td>August</td>\n",
       "      <td>Wholesale</td>\n",
       "      <td>61456.34</td>\n",
       "      <td>777.928354</td>\n",
       "      <td>79</td>\n",
       "    </tr>\n",
       "  </tbody>\n",
       "</table>\n",
       "</div>"
      ],
      "text/plain": [
       "      month_name client_type       sum        mean  count\n",
       "month                                                    \n",
       "6           June      Retail  46220.15  172.463246    268\n",
       "6           June   Wholesale  49099.88  701.426857     70\n",
       "7           July      Retail  44461.80  165.285502    269\n",
       "7           July   Wholesale  49086.11  645.869868     76\n",
       "8         August      Retail  38788.72  162.977815    238\n",
       "8         August   Wholesale  61456.34  777.928354     79"
      ]
     },
     "execution_count": 86,
     "metadata": {},
     "output_type": "execute_result"
    }
   ],
   "source": [
    "monthly_sales_per_client = (df.groupby(['month', 'month_name', 'client_type'])['total']\n",
    "                              .agg(['sum', 'mean', 'count'])\n",
    "                              .reset_index(level=['month_name', 'client_type']))\n",
    "monthly_sales_per_client"
   ]
  },
  {
   "cell_type": "code",
   "execution_count": 87,
   "id": "80698dfc-10cf-4550-8b40-1624da8e2bb9",
   "metadata": {},
   "outputs": [
    {
     "data": {
      "text/plain": [
       "Text(0, 0.5, 'Orders')"
      ]
     },
     "execution_count": 87,
     "metadata": {},
     "output_type": "execute_result"
    },
    {
     "data": {
      "image/png": "[encoded data removed]",
      "text/plain": [
       "<Figure size 1080x288 with 2 Axes>"
      ]
     },
     "metadata": {},
     "output_type": "display_data"
    }
   ],
   "source": [
    "fig, (ax0, ax1) = plt.subplots(1, 2, figsize=(15,4))\n",
    "sns.lineplot(data=monthly_sales_per_client, x='month_name', y='sum', hue='client_type', ci=False, ax=ax0)\n",
    "sns.lineplot(data=monthly_sales_per_client, x='month_name', y='count', hue='client_type', ci=False, ax=ax1)\n",
    "ax0.set_title('Total Revenue')\n",
    "ax0.set_xlabel(None)\n",
    "ax0.set_ylabel('Sales Total')\n",
    "ax1.set_title('Completed Orders')\n",
    "ax1.set_xlabel(None)\n",
    "ax1.set_ylabel('Orders')"
   ]
  },
  {
   "cell_type": "markdown",
   "id": "e0068dba-656f-4c98-8e8d-548748bc2843",
   "metadata": {},
   "source": [
    "##### We can also see on the plot above that **Retail sales** are heavily **declining** and despite there are still significantly more **Retail Sales** it is showing a decreasing trend both in revenue generated and also in the amount of completed orders \n",
    "[Click here to return to Contents](#Contents:)"
   ]
  },
  {
   "cell_type": "markdown",
   "id": "439de85e-7cb8-44fd-bef7-180ac2410d5f",
   "metadata": {},
   "source": [
    "### Average quantity by Order per Warehouse"
   ]
  },
  {
   "cell_type": "code",
   "execution_count": 91,
   "id": "dd63cc48-2079-4dd2-8029-21135ad946e9",
   "metadata": {},
   "outputs": [
    {
     "data": {
      "application/com.datacamp.data-table.v1+json": {
       "table": {
        "data": [
         {
          "client_type": "Retail",
          "index": 0,
          "quantity": 5.4959568733,
          "warehouse": "Central"
         },
         {
          "client_type": "Wholesale",
          "index": 1,
          "quantity": 22.8256880734,
          "warehouse": "Central"
         },
         {
          "client_type": "Retail",
          "index": 2,
          "quantity": 5.3003802281,
          "warehouse": "North"
         },
         {
          "client_type": "Wholesale",
          "index": 3,
          "quantity": 24.1558441558,
          "warehouse": "North"
         },
         {
          "client_type": "Retail",
          "index": 4,
          "quantity": 5.5460992908,
          "warehouse": "West"
         },
         {
          "client_type": "Wholesale",
          "index": 5,
          "quantity": 21.3333333333,
          "warehouse": "West"
         }
        ],
        "schema": {
         "fields": [
          {
           "name": "index",
           "type": "integer"
          },
          {
           "name": "warehouse",
           "type": "string"
          },
          {
           "name": "client_type",
           "type": "string"
          },
          {
           "name": "quantity",
           "type": "number"
          }
         ],
         "pandas_version": "0.20.0",
         "primaryKey": [
          "index"
         ]
        }
       },
       "total_rows": 6,
       "truncation_type": null
      },
      "text/html": [
       "<div>\n",
       "<style scoped>\n",
       "    .dataframe tbody tr th:only-of-type {\n",
       "        vertical-align: middle;\n",
       "    }\n",
       "\n",
       "    .dataframe tbody tr th {\n",
       "        vertical-align: top;\n",
       "    }\n",
       "\n",
       "    .dataframe thead th {\n",
       "        text-align: right;\n",
       "    }\n",
       "</style>\n",
       "<table border=\"1\" class=\"dataframe\">\n",
       "  <thead>\n",
       "    <tr style=\"text-align: right;\">\n",
       "      <th></th>\n",
       "      <th>warehouse</th>\n",
       "      <th>client_type</th>\n",
       "      <th>quantity</th>\n",
       "    </tr>\n",
       "  </thead>\n",
       "  <tbody>\n",
       "    <tr>\n",
       "      <th>0</th>\n",
       "      <td>Central</td>\n",
       "      <td>Retail</td>\n",
       "      <td>5.495957</td>\n",
       "    </tr>\n",
       "    <tr>\n",
       "      <th>1</th>\n",
       "      <td>Central</td>\n",
       "      <td>Wholesale</td>\n",
       "      <td>22.825688</td>\n",
       "    </tr>\n",
       "    <tr>\n",
       "      <th>2</th>\n",
       "      <td>North</td>\n",
       "      <td>Retail</td>\n",
       "      <td>5.300380</td>\n",
       "    </tr>\n",
       "    <tr>\n",
       "      <th>3</th>\n",
       "      <td>North</td>\n",
       "      <td>Wholesale</td>\n",
       "      <td>24.155844</td>\n",
       "    </tr>\n",
       "    <tr>\n",
       "      <th>4</th>\n",
       "      <td>West</td>\n",
       "      <td>Retail</td>\n",
       "      <td>5.546099</td>\n",
       "    </tr>\n",
       "    <tr>\n",
       "      <th>5</th>\n",
       "      <td>West</td>\n",
       "      <td>Wholesale</td>\n",
       "      <td>21.333333</td>\n",
       "    </tr>\n",
       "  </tbody>\n",
       "</table>\n",
       "</div>"
      ],
      "text/plain": [
       "  warehouse client_type   quantity\n",
       "0   Central      Retail   5.495957\n",
       "1   Central   Wholesale  22.825688\n",
       "2     North      Retail   5.300380\n",
       "3     North   Wholesale  24.155844\n",
       "4      West      Retail   5.546099\n",
       "5      West   Wholesale  21.333333"
      ]
     },
     "execution_count": 91,
     "metadata": {},
     "output_type": "execute_result"
    }
   ],
   "source": [
    "avg_quantity_per_order = (df.groupby(['warehouse', 'client_type'])[['quantity']]\n",
    "                            .mean()\n",
    "                            .reset_index()\n",
    "                         )\n",
    "                            \n",
    "avg_quantity_per_order        "
   ]
  },
  {
   "cell_type": "code",
   "execution_count": 93,
   "id": "945fff9d-1d88-4535-a9a6-df2145b55303",
   "metadata": {},
   "outputs": [
    {
     "data": {
      "text/plain": [
       "Text(0, 0.5, 'Number of items per Order')"
      ]
     },
     "execution_count": 93,
     "metadata": {},
     "output_type": "execute_result"
    },
    {
     "data": {
      "image/png": "[encoded data removed]",
      "text/plain": [
       "<Figure size 432x288 with 1 Axes>"
      ]
     },
     "metadata": {},
     "output_type": "display_data"
    }
   ],
   "source": [
    "sns.barplot(data=avg_quantity_per_order, x='warehouse', y='quantity', hue='client_type')\n",
    "plt.title('Average number of items ordered')\n",
    "plt.xlabel(None)\n",
    "plt.ylabel('Number of items per Order')"
   ]
  },
  {
   "cell_type": "markdown",
   "id": "3a7565e7-9743-4466-bc44-db723b06a0af",
   "metadata": {},
   "source": [
    "[Click here to return to Contents](#Contents:)"
   ]
  },
  {
   "cell_type": "markdown",
   "id": "c7f5e9a5-ee62-46b9-8d13-7d24d76fcc89",
   "metadata": {},
   "source": [
    "### Summary"
   ]
  },
  {
   "cell_type": "markdown",
   "id": "01f0a236-cffe-4d79-b100-bca0332eca6b",
   "metadata": {},
   "source": [
    "#### Key findings:\n",
    "- ##### Despite Credit card payments and Retail sales are the most frequent, the majority of revenue is generated via the Transfer payment method and through Wholesale orders of which the per order Total is also significantly higher\n",
    "- ##### The most expensive product line is the Engine category, however most orders contain parts from below-average unit price product lines, thus most ordered items are falling into Suspension & traction and Frame & Body category\n",
    "- ##### The Central Warehouse has completed the most orders and generated the most revenue in this quarter but its initial growth has slowed done. The North Warehouse sales is fluctuating around the quarters average, however it has shown an increase over this period and the biggest growth. The West Warehouse was in recession and had the lowest amount of orders and generated the least revenue\n",
    "\n",
    "#### Recommendations:\n",
    "- ##### There is a visible trend of overall sales decreasing in the West Warehouse, this should be investigated further and re-evaluate profitability, while investigate the slowing growth-rate in the Central Warehouse\n",
    "- ##### The demand for retail orders are declining and by this trend the number of items per order and sales generated also. Focus should shift to promoting Wholesale orders - of which the demand is increasing - contain more items and higher-per-transaction sales, thus resulting in more revenue  \n",
    "##### End of analysis \n",
    "[Click here to return to top](#Contents:)\n"
   ]
  },
  {
   "cell_type": "code",
   "execution_count": null,
   "id": "bb31eeeb-54ff-41a7-9752-a8cca390a102",
   "metadata": {},
   "outputs": [],
   "source": []
  }
 ],
 "metadata": {
  "kernelspec": {
   "display_name": "Python 3 (ipykernel)",
   "language": "python",
   "name": "python3"
  },
  "language_info": {
   "codemirror_mode": {
    "name": "ipython",
    "version": 3
   },
   "file_extension": ".py",
   "mimetype": "text/x-python",
   "name": "python",
   "nbconvert_exporter": "python",
   "pygments_lexer": "ipython3",
   "version": "3.8.13"
  }
 },
 "nbformat": 4,
 "nbformat_minor": 5
}
